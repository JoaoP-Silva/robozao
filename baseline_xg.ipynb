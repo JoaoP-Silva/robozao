{
  "cells": [
    {
      "cell_type": "markdown",
      "metadata": {
        "id": "g3L5edA46ISK"
      },
      "source": [
        "# xG"
      ]
    },
    {
      "cell_type": "code",
      "execution_count": 1,
      "metadata": {
        "colab": {
          "base_uri": "https://localhost:8080/"
        },
        "execution": {
          "iopub.execute_input": "2024-09-03T17:02:49.586613Z",
          "iopub.status.busy": "2024-09-03T17:02:49.585544Z",
          "iopub.status.idle": "2024-09-03T17:03:47.004482Z",
          "shell.execute_reply": "2024-09-03T17:03:47.002948Z",
          "shell.execute_reply.started": "2024-09-03T17:02:49.586554Z"
        },
        "id": "WEbf4vLn6ISK",
        "outputId": "8bb2a906-76b2-4986-e915-9c2fc8914fee",
        "trusted": true
      },
      "outputs": [
        {
          "name": "stdout",
          "output_type": "stream",
          "text": [
            "Collecting gandula\n",
            "  Downloading gandula-0.1.1-py3-none-any.whl.metadata (4.1 kB)\n",
            "Requirement already satisfied: aiohttp>=3.10.5 in /usr/local/lib/python3.10/dist-packages (from gandula) (3.10.5)\n",
            "Collecting gql>=3.5.0 (from gandula)\n",
            "  Downloading gql-3.5.0-py2.py3-none-any.whl.metadata (9.2 kB)\n",
            "Collecting jupyter>=1.0.0 (from gandula)\n",
            "  Downloading jupyter-1.1.1-py2.py3-none-any.whl.metadata (2.0 kB)\n",
            "Collecting matplotlib>=3.9.2 (from gandula)\n",
            "  Downloading matplotlib-3.9.2-cp310-cp310-manylinux_2_17_x86_64.manylinux2014_x86_64.whl.metadata (11 kB)\n",
            "Collecting mplsoccer>=1.4.0 (from gandula)\n",
            "  Downloading mplsoccer-1.4.0-py3-none-any.whl.metadata (4.8 kB)\n",
            "Collecting pandas>=2.2.2 (from gandula)\n",
            "  Downloading pandas-2.2.2-cp310-cp310-manylinux_2_17_x86_64.manylinux2014_x86_64.whl.metadata (19 kB)\n",
            "Requirement already satisfied: pydantic>=2.8.2 in /usr/local/lib/python3.10/dist-packages (from gandula) (2.8.2)\n",
            "Collecting ruff>=0.6.2 (from gandula)\n",
            "  Downloading ruff-0.6.3-py3-none-manylinux_2_17_x86_64.manylinux2014_x86_64.whl.metadata (25 kB)\n",
            "Collecting scikit-learn>=1.5.1 (from gandula)\n",
            "  Downloading scikit_learn-1.5.1-cp310-cp310-manylinux_2_17_x86_64.manylinux2014_x86_64.whl.metadata (12 kB)\n",
            "Requirement already satisfied: tqdm>=4.66.5 in /usr/local/lib/python3.10/dist-packages (from gandula) (4.66.5)\n",
            "Requirement already satisfied: aiohappyeyeballs>=2.3.0 in /usr/local/lib/python3.10/dist-packages (from aiohttp>=3.10.5->gandula) (2.4.0)\n",
            "Requirement already satisfied: aiosignal>=1.1.2 in /usr/local/lib/python3.10/dist-packages (from aiohttp>=3.10.5->gandula) (1.3.1)\n",
            "Requirement already satisfied: attrs>=17.3.0 in /usr/local/lib/python3.10/dist-packages (from aiohttp>=3.10.5->gandula) (24.2.0)\n",
            "Requirement already satisfied: frozenlist>=1.1.1 in /usr/local/lib/python3.10/dist-packages (from aiohttp>=3.10.5->gandula) (1.4.1)\n",
            "Requirement already satisfied: multidict<7.0,>=4.5 in /usr/local/lib/python3.10/dist-packages (from aiohttp>=3.10.5->gandula) (6.0.5)\n",
            "Requirement already satisfied: yarl<2.0,>=1.0 in /usr/local/lib/python3.10/dist-packages (from aiohttp>=3.10.5->gandula) (1.9.4)\n",
            "Requirement already satisfied: async-timeout<5.0,>=4.0 in /usr/local/lib/python3.10/dist-packages (from aiohttp>=3.10.5->gandula) (4.0.3)\n",
            "Collecting graphql-core<3.3,>=3.2 (from gql>=3.5.0->gandula)\n",
            "  Downloading graphql_core-3.2.3-py3-none-any.whl.metadata (10 kB)\n",
            "Collecting backoff<3.0,>=1.11.1 (from gql>=3.5.0->gandula)\n",
            "  Downloading backoff-2.2.1-py3-none-any.whl.metadata (14 kB)\n",
            "Requirement already satisfied: anyio<5,>=3.0 in /usr/local/lib/python3.10/dist-packages (from gql>=3.5.0->gandula) (3.7.1)\n",
            "Requirement already satisfied: notebook in /usr/local/lib/python3.10/dist-packages (from jupyter>=1.0.0->gandula) (6.5.5)\n",
            "Requirement already satisfied: jupyter-console in /usr/local/lib/python3.10/dist-packages (from jupyter>=1.0.0->gandula) (6.1.0)\n",
            "Requirement already satisfied: nbconvert in /usr/local/lib/python3.10/dist-packages (from jupyter>=1.0.0->gandula) (6.5.4)\n",
            "Requirement already satisfied: ipykernel in /usr/local/lib/python3.10/dist-packages (from jupyter>=1.0.0->gandula) (5.5.6)\n",
            "Requirement already satisfied: ipywidgets in /usr/local/lib/python3.10/dist-packages (from jupyter>=1.0.0->gandula) (7.7.1)\n",
            "Collecting jupyterlab (from jupyter>=1.0.0->gandula)\n",
            "  Downloading jupyterlab-4.2.5-py3-none-any.whl.metadata (16 kB)\n",
            "Requirement already satisfied: contourpy>=1.0.1 in /usr/local/lib/python3.10/dist-packages (from matplotlib>=3.9.2->gandula) (1.3.0)\n",
            "Requirement already satisfied: cycler>=0.10 in /usr/local/lib/python3.10/dist-packages (from matplotlib>=3.9.2->gandula) (0.12.1)\n",
            "Requirement already satisfied: fonttools>=4.22.0 in /usr/local/lib/python3.10/dist-packages (from matplotlib>=3.9.2->gandula) (4.53.1)\n",
            "Requirement already satisfied: kiwisolver>=1.3.1 in /usr/local/lib/python3.10/dist-packages (from matplotlib>=3.9.2->gandula) (1.4.5)\n",
            "Requirement already satisfied: numpy>=1.23 in /usr/local/lib/python3.10/dist-packages (from matplotlib>=3.9.2->gandula) (1.26.4)\n",
            "Requirement already satisfied: packaging>=20.0 in /usr/local/lib/python3.10/dist-packages (from matplotlib>=3.9.2->gandula) (24.1)\n",
            "Requirement already satisfied: pillow>=8 in /usr/local/lib/python3.10/dist-packages (from matplotlib>=3.9.2->gandula) (9.4.0)\n",
            "Requirement already satisfied: pyparsing>=2.3.1 in /usr/local/lib/python3.10/dist-packages (from matplotlib>=3.9.2->gandula) (3.1.4)\n",
            "Requirement already satisfied: python-dateutil>=2.7 in /usr/local/lib/python3.10/dist-packages (from matplotlib>=3.9.2->gandula) (2.8.2)\n",
            "Requirement already satisfied: requests in /usr/local/lib/python3.10/dist-packages (from mplsoccer>=1.4.0->gandula) (2.32.3)\n",
            "Requirement already satisfied: scipy in /usr/local/lib/python3.10/dist-packages (from mplsoccer>=1.4.0->gandula) (1.13.1)\n",
            "Requirement already satisfied: seaborn in /usr/local/lib/python3.10/dist-packages (from mplsoccer>=1.4.0->gandula) (0.13.1)\n",
            "Requirement already satisfied: pytz>=2020.1 in /usr/local/lib/python3.10/dist-packages (from pandas>=2.2.2->gandula) (2024.1)\n",
            "Requirement already satisfied: tzdata>=2022.7 in /usr/local/lib/python3.10/dist-packages (from pandas>=2.2.2->gandula) (2024.1)\n",
            "Requirement already satisfied: annotated-types>=0.4.0 in /usr/local/lib/python3.10/dist-packages (from pydantic>=2.8.2->gandula) (0.7.0)\n",
            "Requirement already satisfied: pydantic-core==2.20.1 in /usr/local/lib/python3.10/dist-packages (from pydantic>=2.8.2->gandula) (2.20.1)\n",
            "Requirement already satisfied: typing-extensions>=4.6.1 in /usr/local/lib/python3.10/dist-packages (from pydantic>=2.8.2->gandula) (4.12.2)\n",
            "Requirement already satisfied: joblib>=1.2.0 in /usr/local/lib/python3.10/dist-packages (from scikit-learn>=1.5.1->gandula) (1.4.2)\n",
            "Requirement already satisfied: threadpoolctl>=3.1.0 in /usr/local/lib/python3.10/dist-packages (from scikit-learn>=1.5.1->gandula) (3.5.0)\n",
            "Requirement already satisfied: idna>=2.8 in /usr/local/lib/python3.10/dist-packages (from anyio<5,>=3.0->gql>=3.5.0->gandula) (3.8)\n",
            "Requirement already satisfied: sniffio>=1.1 in /usr/local/lib/python3.10/dist-packages (from anyio<5,>=3.0->gql>=3.5.0->gandula) (1.3.1)\n",
            "Requirement already satisfied: exceptiongroup in /usr/local/lib/python3.10/dist-packages (from anyio<5,>=3.0->gql>=3.5.0->gandula) (1.2.2)\n",
            "Requirement already satisfied: six>=1.5 in /usr/local/lib/python3.10/dist-packages (from python-dateutil>=2.7->matplotlib>=3.9.2->gandula) (1.16.0)\n",
            "Requirement already satisfied: ipython-genutils in /usr/local/lib/python3.10/dist-packages (from ipykernel->jupyter>=1.0.0->gandula) (0.2.0)\n",
            "Requirement already satisfied: ipython>=5.0.0 in /usr/local/lib/python3.10/dist-packages (from ipykernel->jupyter>=1.0.0->gandula) (7.34.0)\n",
            "Requirement already satisfied: traitlets>=4.1.0 in /usr/local/lib/python3.10/dist-packages (from ipykernel->jupyter>=1.0.0->gandula) (5.7.1)\n",
            "Requirement already satisfied: jupyter-client in /usr/local/lib/python3.10/dist-packages (from ipykernel->jupyter>=1.0.0->gandula) (6.1.12)\n",
            "Requirement already satisfied: tornado>=4.2 in /usr/local/lib/python3.10/dist-packages (from ipykernel->jupyter>=1.0.0->gandula) (6.3.3)\n",
            "Requirement already satisfied: widgetsnbextension~=3.6.0 in /usr/local/lib/python3.10/dist-packages (from ipywidgets->jupyter>=1.0.0->gandula) (3.6.8)\n",
            "Requirement already satisfied: jupyterlab-widgets>=1.0.0 in /usr/local/lib/python3.10/dist-packages (from ipywidgets->jupyter>=1.0.0->gandula) (3.0.13)\n",
            "Requirement already satisfied: prompt-toolkit!=3.0.0,!=3.0.1,<3.1.0,>=2.0.0 in /usr/local/lib/python3.10/dist-packages (from jupyter-console->jupyter>=1.0.0->gandula) (3.0.47)\n",
            "Requirement already satisfied: pygments in /usr/local/lib/python3.10/dist-packages (from jupyter-console->jupyter>=1.0.0->gandula) (2.16.1)\n",
            "Collecting async-lru>=1.0.0 (from jupyterlab->jupyter>=1.0.0->gandula)\n",
            "  Downloading async_lru-2.0.4-py3-none-any.whl.metadata (4.5 kB)\n",
            "Collecting httpx>=0.25.0 (from jupyterlab->jupyter>=1.0.0->gandula)\n",
            "  Downloading httpx-0.27.2-py3-none-any.whl.metadata (7.1 kB)\n",
            "Collecting ipykernel (from jupyter>=1.0.0->gandula)\n",
            "  Downloading ipykernel-6.29.5-py3-none-any.whl.metadata (6.3 kB)\n",
            "Requirement already satisfied: jinja2>=3.0.3 in /usr/local/lib/python3.10/dist-packages (from jupyterlab->jupyter>=1.0.0->gandula) (3.1.4)\n",
            "Requirement already satisfied: jupyter-core in /usr/local/lib/python3.10/dist-packages (from jupyterlab->jupyter>=1.0.0->gandula) (5.7.2)\n",
            "Collecting jupyter-lsp>=2.0.0 (from jupyterlab->jupyter>=1.0.0->gandula)\n",
            "  Downloading jupyter_lsp-2.2.5-py3-none-any.whl.metadata (1.8 kB)\n",
            "Collecting jupyter-server<3,>=2.4.0 (from jupyterlab->jupyter>=1.0.0->gandula)\n",
            "  Downloading jupyter_server-2.14.2-py3-none-any.whl.metadata (8.4 kB)\n",
            "Collecting jupyterlab-server<3,>=2.27.1 (from jupyterlab->jupyter>=1.0.0->gandula)\n",
            "  Downloading jupyterlab_server-2.27.3-py3-none-any.whl.metadata (5.9 kB)\n",
            "Requirement already satisfied: notebook-shim>=0.2 in /usr/local/lib/python3.10/dist-packages (from jupyterlab->jupyter>=1.0.0->gandula) (0.2.4)\n",
            "Requirement already satisfied: setuptools>=40.1.0 in /usr/local/lib/python3.10/dist-packages (from jupyterlab->jupyter>=1.0.0->gandula) (71.0.4)\n",
            "Requirement already satisfied: tomli>=1.2.2 in /usr/local/lib/python3.10/dist-packages (from jupyterlab->jupyter>=1.0.0->gandula) (2.0.1)\n",
            "Collecting comm>=0.1.1 (from ipykernel->jupyter>=1.0.0->gandula)\n",
            "  Downloading comm-0.2.2-py3-none-any.whl.metadata (3.7 kB)\n",
            "Requirement already satisfied: debugpy>=1.6.5 in /usr/local/lib/python3.10/dist-packages (from ipykernel->jupyter>=1.0.0->gandula) (1.6.6)\n",
            "Requirement already satisfied: matplotlib-inline>=0.1 in /usr/local/lib/python3.10/dist-packages (from ipykernel->jupyter>=1.0.0->gandula) (0.1.7)\n",
            "Requirement already satisfied: nest-asyncio in /usr/local/lib/python3.10/dist-packages (from ipykernel->jupyter>=1.0.0->gandula) (1.6.0)\n",
            "Requirement already satisfied: psutil in /usr/local/lib/python3.10/dist-packages (from ipykernel->jupyter>=1.0.0->gandula) (5.9.5)\n",
            "Requirement already satisfied: pyzmq>=24 in /usr/local/lib/python3.10/dist-packages (from ipykernel->jupyter>=1.0.0->gandula) (24.0.1)\n",
            "Requirement already satisfied: lxml in /usr/local/lib/python3.10/dist-packages (from nbconvert->jupyter>=1.0.0->gandula) (4.9.4)\n",
            "Requirement already satisfied: beautifulsoup4 in /usr/local/lib/python3.10/dist-packages (from nbconvert->jupyter>=1.0.0->gandula) (4.12.3)\n",
            "Requirement already satisfied: bleach in /usr/local/lib/python3.10/dist-packages (from nbconvert->jupyter>=1.0.0->gandula) (6.1.0)\n",
            "Requirement already satisfied: defusedxml in /usr/local/lib/python3.10/dist-packages (from nbconvert->jupyter>=1.0.0->gandula) (0.7.1)\n",
            "Requirement already satisfied: entrypoints>=0.2.2 in /usr/local/lib/python3.10/dist-packages (from nbconvert->jupyter>=1.0.0->gandula) (0.4)\n",
            "Requirement already satisfied: jupyterlab-pygments in /usr/local/lib/python3.10/dist-packages (from nbconvert->jupyter>=1.0.0->gandula) (0.3.0)\n",
            "Requirement already satisfied: MarkupSafe>=2.0 in /usr/local/lib/python3.10/dist-packages (from nbconvert->jupyter>=1.0.0->gandula) (2.1.5)\n",
            "Requirement already satisfied: mistune<2,>=0.8.1 in /usr/local/lib/python3.10/dist-packages (from nbconvert->jupyter>=1.0.0->gandula) (0.8.4)\n",
            "Requirement already satisfied: nbclient>=0.5.0 in /usr/local/lib/python3.10/dist-packages (from nbconvert->jupyter>=1.0.0->gandula) (0.10.0)\n",
            "Requirement already satisfied: nbformat>=5.1 in /usr/local/lib/python3.10/dist-packages (from nbconvert->jupyter>=1.0.0->gandula) (5.10.4)\n",
            "Requirement already satisfied: pandocfilters>=1.4.1 in /usr/local/lib/python3.10/dist-packages (from nbconvert->jupyter>=1.0.0->gandula) (1.5.1)\n",
            "Requirement already satisfied: tinycss2 in /usr/local/lib/python3.10/dist-packages (from nbconvert->jupyter>=1.0.0->gandula) (1.3.0)\n",
            "Requirement already satisfied: argon2-cffi in /usr/local/lib/python3.10/dist-packages (from notebook->jupyter>=1.0.0->gandula) (23.1.0)\n",
            "Requirement already satisfied: Send2Trash>=1.8.0 in /usr/local/lib/python3.10/dist-packages (from notebook->jupyter>=1.0.0->gandula) (1.8.3)\n",
            "Requirement already satisfied: terminado>=0.8.3 in /usr/local/lib/python3.10/dist-packages (from notebook->jupyter>=1.0.0->gandula) (0.18.1)\n",
            "Requirement already satisfied: prometheus-client in /usr/local/lib/python3.10/dist-packages (from notebook->jupyter>=1.0.0->gandula) (0.20.0)\n",
            "Requirement already satisfied: nbclassic>=0.4.7 in /usr/local/lib/python3.10/dist-packages (from notebook->jupyter>=1.0.0->gandula) (1.1.0)\n",
            "Requirement already satisfied: charset-normalizer<4,>=2 in /usr/local/lib/python3.10/dist-packages (from requests->mplsoccer>=1.4.0->gandula) (3.3.2)\n",
            "Requirement already satisfied: urllib3<3,>=1.21.1 in /usr/local/lib/python3.10/dist-packages (from requests->mplsoccer>=1.4.0->gandula) (2.0.7)\n",
            "Requirement already satisfied: certifi>=2017.4.17 in /usr/local/lib/python3.10/dist-packages (from requests->mplsoccer>=1.4.0->gandula) (2024.7.4)\n",
            "Collecting httpcore==1.* (from httpx>=0.25.0->jupyterlab->jupyter>=1.0.0->gandula)\n",
            "  Downloading httpcore-1.0.5-py3-none-any.whl.metadata (20 kB)\n",
            "Collecting h11<0.15,>=0.13 (from httpcore==1.*->httpx>=0.25.0->jupyterlab->jupyter>=1.0.0->gandula)\n",
            "  Downloading h11-0.14.0-py3-none-any.whl.metadata (8.2 kB)\n",
            "Collecting jedi>=0.16 (from ipython>=5.0.0->ipykernel->jupyter>=1.0.0->gandula)\n",
            "  Using cached jedi-0.19.1-py2.py3-none-any.whl.metadata (22 kB)\n",
            "Requirement already satisfied: decorator in /usr/local/lib/python3.10/dist-packages (from ipython>=5.0.0->ipykernel->jupyter>=1.0.0->gandula) (4.4.2)\n",
            "Requirement already satisfied: pickleshare in /usr/local/lib/python3.10/dist-packages (from ipython>=5.0.0->ipykernel->jupyter>=1.0.0->gandula) (0.7.5)\n",
            "Requirement already satisfied: backcall in /usr/local/lib/python3.10/dist-packages (from ipython>=5.0.0->ipykernel->jupyter>=1.0.0->gandula) (0.2.0)\n",
            "Requirement already satisfied: pexpect>4.3 in /usr/local/lib/python3.10/dist-packages (from ipython>=5.0.0->ipykernel->jupyter>=1.0.0->gandula) (4.9.0)\n",
            "Requirement already satisfied: platformdirs>=2.5 in /usr/local/lib/python3.10/dist-packages (from jupyter-core->jupyterlab->jupyter>=1.0.0->gandula) (4.2.2)\n",
            "Collecting jupyter-client (from jupyter-console->jupyter>=1.0.0->gandula)\n",
            "  Downloading jupyter_client-7.4.9-py3-none-any.whl.metadata (8.5 kB)\n",
            "Collecting jupyter-events>=0.9.0 (from jupyter-server<3,>=2.4.0->jupyterlab->jupyter>=1.0.0->gandula)\n",
            "  Downloading jupyter_events-0.10.0-py3-none-any.whl.metadata (5.9 kB)\n",
            "Collecting jupyter-server-terminals>=0.4.4 (from jupyter-server<3,>=2.4.0->jupyterlab->jupyter>=1.0.0->gandula)\n",
            "  Downloading jupyter_server_terminals-0.5.3-py3-none-any.whl.metadata (5.6 kB)\n",
            "Collecting overrides>=5.0 (from jupyter-server<3,>=2.4.0->jupyterlab->jupyter>=1.0.0->gandula)\n",
            "  Downloading overrides-7.7.0-py3-none-any.whl.metadata (5.8 kB)\n",
            "Requirement already satisfied: websocket-client>=1.7 in /usr/local/lib/python3.10/dist-packages (from jupyter-server<3,>=2.4.0->jupyterlab->jupyter>=1.0.0->gandula) (1.8.0)\n",
            "Requirement already satisfied: argon2-cffi-bindings in /usr/local/lib/python3.10/dist-packages (from argon2-cffi->notebook->jupyter>=1.0.0->gandula) (21.2.0)\n",
            "Requirement already satisfied: babel>=2.10 in /usr/local/lib/python3.10/dist-packages (from jupyterlab-server<3,>=2.27.1->jupyterlab->jupyter>=1.0.0->gandula) (2.16.0)\n",
            "Collecting json5>=0.9.0 (from jupyterlab-server<3,>=2.27.1->jupyterlab->jupyter>=1.0.0->gandula)\n",
            "  Downloading json5-0.9.25-py3-none-any.whl.metadata (30 kB)\n",
            "Requirement already satisfied: jsonschema>=4.18.0 in /usr/local/lib/python3.10/dist-packages (from jupyterlab-server<3,>=2.27.1->jupyterlab->jupyter>=1.0.0->gandula) (4.23.0)\n",
            "Requirement already satisfied: fastjsonschema>=2.15 in /usr/local/lib/python3.10/dist-packages (from nbformat>=5.1->nbconvert->jupyter>=1.0.0->gandula) (2.20.0)\n",
            "Requirement already satisfied: wcwidth in /usr/local/lib/python3.10/dist-packages (from prompt-toolkit!=3.0.0,!=3.0.1,<3.1.0,>=2.0.0->jupyter-console->jupyter>=1.0.0->gandula) (0.2.13)\n",
            "Requirement already satisfied: ptyprocess in /usr/local/lib/python3.10/dist-packages (from terminado>=0.8.3->notebook->jupyter>=1.0.0->gandula) (0.7.0)\n",
            "Requirement already satisfied: soupsieve>1.2 in /usr/local/lib/python3.10/dist-packages (from beautifulsoup4->nbconvert->jupyter>=1.0.0->gandula) (2.6)\n",
            "Requirement already satisfied: webencodings in /usr/local/lib/python3.10/dist-packages (from bleach->nbconvert->jupyter>=1.0.0->gandula) (0.5.1)\n",
            "Requirement already satisfied: parso<0.9.0,>=0.8.3 in /usr/local/lib/python3.10/dist-packages (from jedi>=0.16->ipython>=5.0.0->ipykernel->jupyter>=1.0.0->gandula) (0.8.4)\n",
            "Requirement already satisfied: jsonschema-specifications>=2023.03.6 in /usr/local/lib/python3.10/dist-packages (from jsonschema>=4.18.0->jupyterlab-server<3,>=2.27.1->jupyterlab->jupyter>=1.0.0->gandula) (2023.12.1)\n",
            "Requirement already satisfied: referencing>=0.28.4 in /usr/local/lib/python3.10/dist-packages (from jsonschema>=4.18.0->jupyterlab-server<3,>=2.27.1->jupyterlab->jupyter>=1.0.0->gandula) (0.35.1)\n",
            "Requirement already satisfied: rpds-py>=0.7.1 in /usr/local/lib/python3.10/dist-packages (from jsonschema>=4.18.0->jupyterlab-server<3,>=2.27.1->jupyterlab->jupyter>=1.0.0->gandula) (0.20.0)\n",
            "Collecting python-json-logger>=2.0.4 (from jupyter-events>=0.9.0->jupyter-server<3,>=2.4.0->jupyterlab->jupyter>=1.0.0->gandula)\n",
            "  Downloading python_json_logger-2.0.7-py3-none-any.whl.metadata (6.5 kB)\n",
            "Requirement already satisfied: pyyaml>=5.3 in /usr/local/lib/python3.10/dist-packages (from jupyter-events>=0.9.0->jupyter-server<3,>=2.4.0->jupyterlab->jupyter>=1.0.0->gandula) (6.0.2)\n",
            "Collecting rfc3339-validator (from jupyter-events>=0.9.0->jupyter-server<3,>=2.4.0->jupyterlab->jupyter>=1.0.0->gandula)\n",
            "  Downloading rfc3339_validator-0.1.4-py2.py3-none-any.whl.metadata (1.5 kB)\n",
            "Collecting rfc3986-validator>=0.1.1 (from jupyter-events>=0.9.0->jupyter-server<3,>=2.4.0->jupyterlab->jupyter>=1.0.0->gandula)\n",
            "  Downloading rfc3986_validator-0.1.1-py2.py3-none-any.whl.metadata (1.7 kB)\n",
            "Requirement already satisfied: cffi>=1.0.1 in /usr/local/lib/python3.10/dist-packages (from argon2-cffi-bindings->argon2-cffi->notebook->jupyter>=1.0.0->gandula) (1.17.0)\n",
            "Requirement already satisfied: pycparser in /usr/local/lib/python3.10/dist-packages (from cffi>=1.0.1->argon2-cffi-bindings->argon2-cffi->notebook->jupyter>=1.0.0->gandula) (2.22)\n",
            "Collecting fqdn (from jsonschema[format-nongpl]>=4.18.0->jupyter-events>=0.9.0->jupyter-server<3,>=2.4.0->jupyterlab->jupyter>=1.0.0->gandula)\n",
            "  Downloading fqdn-1.5.1-py3-none-any.whl.metadata (1.4 kB)\n",
            "Collecting isoduration (from jsonschema[format-nongpl]>=4.18.0->jupyter-events>=0.9.0->jupyter-server<3,>=2.4.0->jupyterlab->jupyter>=1.0.0->gandula)\n",
            "  Downloading isoduration-20.11.0-py3-none-any.whl.metadata (5.7 kB)\n",
            "Collecting jsonpointer>1.13 (from jsonschema[format-nongpl]>=4.18.0->jupyter-events>=0.9.0->jupyter-server<3,>=2.4.0->jupyterlab->jupyter>=1.0.0->gandula)\n",
            "  Downloading jsonpointer-3.0.0-py2.py3-none-any.whl.metadata (2.3 kB)\n",
            "Collecting uri-template (from jsonschema[format-nongpl]>=4.18.0->jupyter-events>=0.9.0->jupyter-server<3,>=2.4.0->jupyterlab->jupyter>=1.0.0->gandula)\n",
            "  Downloading uri_template-1.3.0-py3-none-any.whl.metadata (8.8 kB)\n",
            "Requirement already satisfied: webcolors>=24.6.0 in /usr/local/lib/python3.10/dist-packages (from jsonschema[format-nongpl]>=4.18.0->jupyter-events>=0.9.0->jupyter-server<3,>=2.4.0->jupyterlab->jupyter>=1.0.0->gandula) (24.8.0)\n",
            "Collecting arrow>=0.15.0 (from isoduration->jsonschema[format-nongpl]>=4.18.0->jupyter-events>=0.9.0->jupyter-server<3,>=2.4.0->jupyterlab->jupyter>=1.0.0->gandula)\n",
            "  Downloading arrow-1.3.0-py3-none-any.whl.metadata (7.5 kB)\n",
            "Collecting types-python-dateutil>=2.8.10 (from arrow>=0.15.0->isoduration->jsonschema[format-nongpl]>=4.18.0->jupyter-events>=0.9.0->jupyter-server<3,>=2.4.0->jupyterlab->jupyter>=1.0.0->gandula)\n",
            "  Downloading types_python_dateutil-2.9.0.20240821-py3-none-any.whl.metadata (1.9 kB)\n",
            "Downloading gandula-0.1.1-py3-none-any.whl (29 kB)\n",
            "Downloading gql-3.5.0-py2.py3-none-any.whl (74 kB)\n",
            "\u001b[2K   \u001b[90m━━━━━━━━━━━━━━━━━━━━━━━━━━━━━━━━━━━━━━━━\u001b[0m \u001b[32m74.0/74.0 kB\u001b[0m \u001b[31m4.8 MB/s\u001b[0m eta \u001b[36m0:00:00\u001b[0m\n",
            "\u001b[?25hDownloading jupyter-1.1.1-py2.py3-none-any.whl (2.7 kB)\n",
            "Downloading matplotlib-3.9.2-cp310-cp310-manylinux_2_17_x86_64.manylinux2014_x86_64.whl (8.3 MB)\n",
            "\u001b[2K   \u001b[90m━━━━━━━━━━━━━━━━━━━━━━━━━━━━━━━━━━━━━━━━\u001b[0m \u001b[32m8.3/8.3 MB\u001b[0m \u001b[31m83.1 MB/s\u001b[0m eta \u001b[36m0:00:00\u001b[0m\n",
            "\u001b[?25hDownloading mplsoccer-1.4.0-py3-none-any.whl (85 kB)\n",
            "\u001b[2K   \u001b[90m━━━━━━━━━━━━━━━━━━━━━━━━━━━━━━━━━━━━━━━━\u001b[0m \u001b[32m85.8/85.8 kB\u001b[0m \u001b[31m5.7 MB/s\u001b[0m eta \u001b[36m0:00:00\u001b[0m\n",
            "\u001b[?25hDownloading pandas-2.2.2-cp310-cp310-manylinux_2_17_x86_64.manylinux2014_x86_64.whl (13.0 MB)\n",
            "\u001b[2K   \u001b[90m━━━━━━━━━━━━━━━━━━━━━━━━━━━━━━━━━━━━━━━━\u001b[0m \u001b[32m13.0/13.0 MB\u001b[0m \u001b[31m87.5 MB/s\u001b[0m eta \u001b[36m0:00:00\u001b[0m\n",
            "\u001b[?25hDownloading ruff-0.6.3-py3-none-manylinux_2_17_x86_64.manylinux2014_x86_64.whl (10.3 MB)\n",
            "\u001b[2K   \u001b[90m━━━━━━━━━━━━━━━━━━━━━━━━━━━━━━━━━━━━━━━━\u001b[0m \u001b[32m10.3/10.3 MB\u001b[0m \u001b[31m91.2 MB/s\u001b[0m eta \u001b[36m0:00:00\u001b[0m\n",
            "\u001b[?25hDownloading scikit_learn-1.5.1-cp310-cp310-manylinux_2_17_x86_64.manylinux2014_x86_64.whl (13.4 MB)\n",
            "\u001b[2K   \u001b[90m━━━━━━━━━━━━━━━━━━━━━━━━━━━━━━━━━━━━━━━━\u001b[0m \u001b[32m13.4/13.4 MB\u001b[0m \u001b[31m90.1 MB/s\u001b[0m eta \u001b[36m0:00:00\u001b[0m\n",
            "\u001b[?25hDownloading backoff-2.2.1-py3-none-any.whl (15 kB)\n",
            "Downloading graphql_core-3.2.3-py3-none-any.whl (202 kB)\n",
            "\u001b[2K   \u001b[90m━━━━━━━━━━━━━━━━━━━━━━━━━━━━━━━━━━━━━━━━\u001b[0m \u001b[32m202.9/202.9 kB\u001b[0m \u001b[31m13.0 MB/s\u001b[0m eta \u001b[36m0:00:00\u001b[0m\n",
            "\u001b[?25hDownloading jupyterlab-4.2.5-py3-none-any.whl (11.6 MB)\n",
            "\u001b[2K   \u001b[90m━━━━━━━━━━━━━━━━━━━━━━━━━━━━━━━━━━━━━━━━\u001b[0m \u001b[32m11.6/11.6 MB\u001b[0m \u001b[31m91.8 MB/s\u001b[0m eta \u001b[36m0:00:00\u001b[0m\n",
            "\u001b[?25hDownloading ipykernel-6.29.5-py3-none-any.whl (117 kB)\n",
            "\u001b[2K   \u001b[90m━━━━━━━━━━━━━━━━━━━━━━━━━━━━━━━━━━━━━━━━\u001b[0m \u001b[32m117.2/117.2 kB\u001b[0m \u001b[31m8.2 MB/s\u001b[0m eta \u001b[36m0:00:00\u001b[0m\n",
            "\u001b[?25hDownloading async_lru-2.0.4-py3-none-any.whl (6.1 kB)\n",
            "Downloading comm-0.2.2-py3-none-any.whl (7.2 kB)\n",
            "Downloading httpx-0.27.2-py3-none-any.whl (76 kB)\n",
            "\u001b[2K   \u001b[90m━━━━━━━━━━━━━━━━━━━━━━━━━━━━━━━━━━━━━━━━\u001b[0m \u001b[32m76.4/76.4 kB\u001b[0m \u001b[31m4.1 MB/s\u001b[0m eta \u001b[36m0:00:00\u001b[0m\n",
            "\u001b[?25hDownloading httpcore-1.0.5-py3-none-any.whl (77 kB)\n",
            "\u001b[2K   \u001b[90m━━━━━━━━━━━━━━━━━━━━━━━━━━━━━━━━━━━━━━━━\u001b[0m \u001b[32m77.9/77.9 kB\u001b[0m \u001b[31m4.8 MB/s\u001b[0m eta \u001b[36m0:00:00\u001b[0m\n",
            "\u001b[?25hDownloading jupyter_lsp-2.2.5-py3-none-any.whl (69 kB)\n",
            "\u001b[2K   \u001b[90m━━━━━━━━━━━━━━━━━━━━━━━━━━━━━━━━━━━━━━━━\u001b[0m \u001b[32m69.1/69.1 kB\u001b[0m \u001b[31m4.9 MB/s\u001b[0m eta \u001b[36m0:00:00\u001b[0m\n",
            "\u001b[?25hDownloading jupyter_server-2.14.2-py3-none-any.whl (383 kB)\n",
            "\u001b[2K   \u001b[90m━━━━━━━━━━━━━━━━━━━━━━━━━━━━━━━━━━━━━━━━\u001b[0m \u001b[32m383.6/383.6 kB\u001b[0m \u001b[31m22.9 MB/s\u001b[0m eta \u001b[36m0:00:00\u001b[0m\n",
            "\u001b[?25hDownloading jupyter_client-7.4.9-py3-none-any.whl (133 kB)\n",
            "\u001b[2K   \u001b[90m━━━━━━━━━━━━━━━━━━━━━━━━━━━━━━━━━━━━━━━━\u001b[0m \u001b[32m133.5/133.5 kB\u001b[0m \u001b[31m9.3 MB/s\u001b[0m eta \u001b[36m0:00:00\u001b[0m\n",
            "\u001b[?25hDownloading jupyterlab_server-2.27.3-py3-none-any.whl (59 kB)\n",
            "\u001b[2K   \u001b[90m━━━━━━━━━━━━━━━━━━━━━━━━━━━━━━━━━━━━━━━━\u001b[0m \u001b[32m59.7/59.7 kB\u001b[0m \u001b[31m4.1 MB/s\u001b[0m eta \u001b[36m0:00:00\u001b[0m\n",
            "\u001b[?25hUsing cached jedi-0.19.1-py2.py3-none-any.whl (1.6 MB)\n",
            "Downloading json5-0.9.25-py3-none-any.whl (30 kB)\n",
            "Downloading jupyter_events-0.10.0-py3-none-any.whl (18 kB)\n",
            "Downloading jupyter_server_terminals-0.5.3-py3-none-any.whl (13 kB)\n",
            "Downloading overrides-7.7.0-py3-none-any.whl (17 kB)\n",
            "Downloading h11-0.14.0-py3-none-any.whl (58 kB)\n",
            "\u001b[2K   \u001b[90m━━━━━━━━━━━━━━━━━━━━━━━━━━━━━━━━━━━━━━━━\u001b[0m \u001b[32m58.3/58.3 kB\u001b[0m \u001b[31m4.3 MB/s\u001b[0m eta \u001b[36m0:00:00\u001b[0m\n",
            "\u001b[?25hDownloading python_json_logger-2.0.7-py3-none-any.whl (8.1 kB)\n",
            "Downloading rfc3986_validator-0.1.1-py2.py3-none-any.whl (4.2 kB)\n",
            "Downloading rfc3339_validator-0.1.4-py2.py3-none-any.whl (3.5 kB)\n",
            "Downloading jsonpointer-3.0.0-py2.py3-none-any.whl (7.6 kB)\n",
            "Downloading fqdn-1.5.1-py3-none-any.whl (9.1 kB)\n",
            "Downloading isoduration-20.11.0-py3-none-any.whl (11 kB)\n",
            "Downloading uri_template-1.3.0-py3-none-any.whl (11 kB)\n",
            "Downloading arrow-1.3.0-py3-none-any.whl (66 kB)\n",
            "\u001b[2K   \u001b[90m━━━━━━━━━━━━━━━━━━━━━━━━━━━━━━━━━━━━━━━━\u001b[0m \u001b[32m66.4/66.4 kB\u001b[0m \u001b[31m4.7 MB/s\u001b[0m eta \u001b[36m0:00:00\u001b[0m\n",
            "\u001b[?25hDownloading types_python_dateutil-2.9.0.20240821-py3-none-any.whl (9.7 kB)\n",
            "Installing collected packages: uri-template, types-python-dateutil, ruff, rfc3986-validator, rfc3339-validator, python-json-logger, overrides, jsonpointer, json5, jedi, h11, graphql-core, fqdn, comm, backoff, async-lru, scikit-learn, pandas, matplotlib, jupyter-server-terminals, jupyter-client, httpcore, gql, arrow, isoduration, ipykernel, httpx, mplsoccer, jupyter-events, jupyter-server, jupyterlab-server, jupyter-lsp, jupyterlab, jupyter, gandula\n",
            "  Attempting uninstall: scikit-learn\n",
            "    Found existing installation: scikit-learn 1.3.2\n",
            "    Uninstalling scikit-learn-1.3.2:\n",
            "      Successfully uninstalled scikit-learn-1.3.2\n",
            "  Attempting uninstall: pandas\n",
            "    Found existing installation: pandas 2.1.4\n",
            "    Uninstalling pandas-2.1.4:\n",
            "      Successfully uninstalled pandas-2.1.4\n",
            "  Attempting uninstall: matplotlib\n",
            "    Found existing installation: matplotlib 3.7.1\n",
            "    Uninstalling matplotlib-3.7.1:\n",
            "      Successfully uninstalled matplotlib-3.7.1\n",
            "  Attempting uninstall: jupyter-client\n",
            "    Found existing installation: jupyter-client 6.1.12\n",
            "    Uninstalling jupyter-client-6.1.12:\n",
            "      Successfully uninstalled jupyter-client-6.1.12\n",
            "  Attempting uninstall: ipykernel\n",
            "    Found existing installation: ipykernel 5.5.6\n",
            "    Uninstalling ipykernel-5.5.6:\n",
            "      Successfully uninstalled ipykernel-5.5.6\n",
            "  Attempting uninstall: jupyter-server\n",
            "    Found existing installation: jupyter-server 1.24.0\n",
            "    Uninstalling jupyter-server-1.24.0:\n",
            "      Successfully uninstalled jupyter-server-1.24.0\n",
            "\u001b[31mERROR: pip's dependency resolver does not currently take into account all the packages that are installed. This behaviour is the source of the following dependency conflicts.\n",
            "cudf-cu12 24.4.1 requires pandas<2.2.2dev0,>=2.0, but you have pandas 2.2.2 which is incompatible.\n",
            "google-colab 1.0.0 requires ipykernel==5.5.6, but you have ipykernel 6.29.5 which is incompatible.\n",
            "google-colab 1.0.0 requires pandas==2.1.4, but you have pandas 2.2.2 which is incompatible.\u001b[0m\u001b[31m\n",
            "\u001b[0mSuccessfully installed arrow-1.3.0 async-lru-2.0.4 backoff-2.2.1 comm-0.2.2 fqdn-1.5.1 gandula-0.1.1 gql-3.5.0 graphql-core-3.2.3 h11-0.14.0 httpcore-1.0.5 httpx-0.27.2 ipykernel-6.29.5 isoduration-20.11.0 jedi-0.19.1 json5-0.9.25 jsonpointer-3.0.0 jupyter-1.1.1 jupyter-client-7.4.9 jupyter-events-0.10.0 jupyter-lsp-2.2.5 jupyter-server-2.14.2 jupyter-server-terminals-0.5.3 jupyterlab-4.2.5 jupyterlab-server-2.27.3 matplotlib-3.9.2 mplsoccer-1.4.0 overrides-7.7.0 pandas-2.2.2 python-json-logger-2.0.7 rfc3339-validator-0.1.4 rfc3986-validator-0.1.1 ruff-0.6.3 scikit-learn-1.5.1 types-python-dateutil-2.9.0.20240821 uri-template-1.3.0\n"
          ]
        }
      ],
      "source": [
        "! pip install gandula"
      ]
    },
    {
      "cell_type": "markdown",
      "metadata": {
        "id": "V8q_R6-v6ISM"
      },
      "source": [
        "Esse notebook mostra como implementar um modelo de Expectativa de Gols do zero até ter ele completo."
      ]
    },
    {
      "cell_type": "markdown",
      "metadata": {
        "id": "Xgoc308X6ISN"
      },
      "source": [
        "## Imports"
      ]
    },
    {
      "cell_type": "code",
      "execution_count": 1,
      "metadata": {
        "execution": {
          "iopub.execute_input": "2024-09-03T17:03:47.007384Z",
          "iopub.status.busy": "2024-09-03T17:03:47.006973Z",
          "iopub.status.idle": "2024-09-03T17:03:48.606123Z",
          "shell.execute_reply": "2024-09-03T17:03:48.604778Z",
          "shell.execute_reply.started": "2024-09-03T17:03:47.007339Z"
        },
        "id": "1nAwJDOp6ISN",
        "trusted": true
      },
      "outputs": [],
      "source": [
        "import gandula"
      ]
    },
    {
      "cell_type": "code",
      "execution_count": 2,
      "metadata": {
        "colab": {
          "base_uri": "https://localhost:8080/",
          "height": 317
        },
        "execution": {
          "iopub.execute_input": "2024-09-03T17:03:48.608084Z",
          "iopub.status.busy": "2024-09-03T17:03:48.607555Z",
          "iopub.status.idle": "2024-09-03T17:03:48.617646Z",
          "shell.execute_reply": "2024-09-03T17:03:48.616065Z",
          "shell.execute_reply.started": "2024-09-03T17:03:48.608044Z"
        },
        "id": "iShZDwLF6ISO",
        "outputId": "3bbd9ae5-3625-4a4d-cee5-9c19efb13926",
        "trusted": true
      },
      "outputs": [
        {
          "data": {
            "text/html": [
              "<h1>Gandula</h1><p>Library for interacting and manipulating PFF data</p><h2>API</h2><ul><li>gandula.validate_api_key</li><li>gandula.get_available_competitions</li><li>gandula.get_match_events</li><li>gandula.get_competitions</li><li>gandula.get_frames</li><li>gandula.get_enhanced_frames</li><li>gandula.view</li><li>gandula.animate</li></ul>"
            ],
            "text/plain": [
              "<module 'gandula' from '/home/joao/Projetos/robozao/.venv/robozao/lib/python3.12/site-packages/gandula/__init__.py'>"
            ]
          },
          "execution_count": 2,
          "metadata": {},
          "output_type": "execute_result"
        }
      ],
      "source": [
        "gandula"
      ]
    },
    {
      "cell_type": "code",
      "execution_count": 43,
      "metadata": {
        "execution": {
          "iopub.execute_input": "2024-09-03T17:03:48.621379Z",
          "iopub.status.busy": "2024-09-03T17:03:48.620927Z",
          "iopub.status.idle": "2024-09-03T17:03:49.293142Z",
          "shell.execute_reply": "2024-09-03T17:03:49.291616Z",
          "shell.execute_reply.started": "2024-09-03T17:03:48.621332Z"
        },
        "id": "WZsDcsqA6ISP",
        "trusted": true
      },
      "outputs": [],
      "source": [
        "import os\n",
        "import json\n",
        "\n",
        "import matplotlib.pyplot as plt\n",
        "import numpy as np\n",
        "import pandas as pd\n",
        "from sklearn.linear_model import LogisticRegression\n",
        "from sklearn.metrics import roc_auc_score"
      ]
    },
    {
      "cell_type": "markdown",
      "metadata": {
        "id": "GaLxQMLf6ISQ"
      },
      "source": [
        "## Coleta de dados"
      ]
    },
    {
      "cell_type": "markdown",
      "metadata": {
        "id": "uBfgE2zQ6ISQ"
      },
      "source": [
        "A PFF fornece dois tipos de dado, que podem vir de jeitos diferentes:\n",
        "\n",
        "- dados de evento: json ou via API\n",
        "- dados de tracking: json"
      ]
    },
    {
      "cell_type": "markdown",
      "metadata": {
        "id": "6z5NJknD6ISR"
      },
      "source": [
        "Para loadar frames, é só usar os a célula abaixo como modelo. O problema é que isso demora: dados de tracking são pesados."
      ]
    },
    {
      "cell_type": "code",
      "execution_count": 91,
      "metadata": {
        "execution": {
          "iopub.execute_input": "2024-09-03T17:03:49.295209Z",
          "iopub.status.busy": "2024-09-03T17:03:49.294606Z",
          "iopub.status.idle": "2024-09-03T17:03:49.303812Z",
          "shell.execute_reply": "2024-09-03T17:03:49.301921Z",
          "shell.execute_reply.started": "2024-09-03T17:03:49.295162Z"
        },
        "id": "T19gMM5B6ISS",
        "trusted": true
      },
      "outputs": [],
      "source": [
        "data_dir = os.getcwd() + '/_data'"
      ]
    },
    {
      "cell_type": "code",
      "execution_count": 92,
      "metadata": {
        "execution": {
          "iopub.execute_input": "2024-09-03T17:03:49.306268Z",
          "iopub.status.busy": "2024-09-03T17:03:49.305710Z",
          "iopub.status.idle": "2024-09-03T17:03:49.320256Z",
          "shell.execute_reply": "2024-09-03T17:03:49.318606Z",
          "shell.execute_reply.started": "2024-09-03T17:03:49.306205Z"
        },
        "id": "6pOlbCAB6ISS",
        "trusted": true
      },
      "outputs": [
        {
          "ename": "Exception",
          "evalue": "Error getting frames for match_id=3813",
          "output_type": "error",
          "traceback": [
            "\u001b[0;31m---------------------------------------------------------------------------\u001b[0m",
            "\u001b[0;31mFileNotFoundError\u001b[0m                         Traceback (most recent call last)",
            "File \u001b[0;32m~/Projetos/robozao/.venv/robozao/lib/python3.12/site-packages/gandula/match.py:98\u001b[0m, in \u001b[0;36mget_frames\u001b[0;34m(data_dir, match_id, competition_name, season)\u001b[0m\n\u001b[1;32m     97\u001b[0m \u001b[38;5;28;01mtry\u001b[39;00m:\n\u001b[0;32m---> 98\u001b[0m     frames \u001b[38;5;241m=\u001b[39m \u001b[43mlocal_loader\u001b[49m\u001b[38;5;241;43m.\u001b[39;49m\u001b[43mget_frames\u001b[49m\u001b[43m(\u001b[49m\n\u001b[1;32m     99\u001b[0m \u001b[43m        \u001b[49m\u001b[43mdata_dir\u001b[49m\u001b[43m,\u001b[49m\u001b[43m \u001b[49m\u001b[43mmatch_id\u001b[49m\u001b[43m,\u001b[49m\u001b[43m \u001b[49m\u001b[43mcompetition_name\u001b[49m\u001b[38;5;241;43m=\u001b[39;49m\u001b[43mcompetition_name\u001b[49m\u001b[43m,\u001b[49m\u001b[43m \u001b[49m\u001b[43mseason\u001b[49m\u001b[38;5;241;43m=\u001b[39;49m\u001b[43mseason\u001b[49m\n\u001b[1;32m    100\u001b[0m \u001b[43m    \u001b[49m\u001b[43m)\u001b[49m\n\u001b[1;32m    101\u001b[0m     \u001b[38;5;28;01mreturn\u001b[39;00m [PFF_Frame\u001b[38;5;241m.\u001b[39mmodel_validate(frame, strict\u001b[38;5;241m=\u001b[39m\u001b[38;5;28;01mFalse\u001b[39;00m) \u001b[38;5;28;01mfor\u001b[39;00m frame \u001b[38;5;129;01min\u001b[39;00m frames]\n",
            "File \u001b[0;32m~/Projetos/robozao/.venv/robozao/lib/python3.12/site-packages/gandula/providers/pff/local/loader.py:201\u001b[0m, in \u001b[0;36mget_frames\u001b[0;34m(data_dir, match_id, competition_name, season)\u001b[0m\n\u001b[1;32m    192\u001b[0m \u001b[38;5;250m\u001b[39m\u001b[38;5;124;03m\"\"\"\u001b[39;00m\n\u001b[1;32m    193\u001b[0m \u001b[38;5;124;03mLocal client function to retrieve match data for a given match_id.\u001b[39;00m\n\u001b[1;32m    194\u001b[0m \n\u001b[0;32m   (...)\u001b[0m\n\u001b[1;32m    199\u001b[0m \u001b[38;5;124;03m:return: A list of dictionaries containing the frames from PFF.\u001b[39;00m\n\u001b[1;32m    200\u001b[0m \u001b[38;5;124;03m\"\"\"\u001b[39;00m\n\u001b[0;32m--> 201\u001b[0m file_path \u001b[38;5;241m=\u001b[39m \u001b[43mget_path\u001b[49m\u001b[43m(\u001b[49m\u001b[43mdata_dir\u001b[49m\u001b[43m,\u001b[49m\u001b[43m \u001b[49m\u001b[43mmatch_id\u001b[49m\u001b[43m,\u001b[49m\u001b[43m \u001b[49m\u001b[43mcompetition_name\u001b[49m\u001b[43m,\u001b[49m\u001b[43m \u001b[49m\u001b[43mseason\u001b[49m\u001b[43m)\u001b[49m\n\u001b[1;32m    203\u001b[0m \u001b[38;5;28;01mif\u001b[39;00m file_path\u001b[38;5;241m.\u001b[39msuffix \u001b[38;5;241m==\u001b[39m \u001b[38;5;124m'\u001b[39m\u001b[38;5;124m.jsonl\u001b[39m\u001b[38;5;124m'\u001b[39m:\n",
            "File \u001b[0;32m~/Projetos/robozao/.venv/robozao/lib/python3.12/site-packages/gandula/providers/pff/local/loader.py:161\u001b[0m, in \u001b[0;36mget_path\u001b[0;34m(data_dir, match_id, competition_name, season)\u001b[0m\n\u001b[1;32m    151\u001b[0m \u001b[38;5;250m\u001b[39m\u001b[38;5;124;03m\"\"\"\u001b[39;00m\n\u001b[1;32m    152\u001b[0m \u001b[38;5;124;03mCombines building the directory path, finding the file, and checking if it exists.\u001b[39;00m\n\u001b[1;32m    153\u001b[0m \n\u001b[0;32m   (...)\u001b[0m\n\u001b[1;32m    159\u001b[0m \u001b[38;5;124;03m:raises FileNotFoundError: If the directory or file does not exist.\u001b[39;00m\n\u001b[1;32m    160\u001b[0m \u001b[38;5;124;03m\"\"\"\u001b[39;00m\n\u001b[0;32m--> 161\u001b[0m dirname \u001b[38;5;241m=\u001b[39m \u001b[43mbuild_path\u001b[49m\u001b[43m(\u001b[49m\u001b[43mdata_dir\u001b[49m\u001b[43m,\u001b[49m\u001b[43m \u001b[49m\u001b[43mcompetition_name\u001b[49m\u001b[43m,\u001b[49m\u001b[43m \u001b[49m\u001b[43mseason\u001b[49m\u001b[43m)\u001b[49m\n\u001b[1;32m    162\u001b[0m filename \u001b[38;5;241m=\u001b[39m get_filetype(dirname, match_id)\n",
            "File \u001b[0;32m~/Projetos/robozao/.venv/robozao/lib/python3.12/site-packages/gandula/providers/pff/local/loader.py:119\u001b[0m, in \u001b[0;36mbuild_path\u001b[0;34m(data_dir, competition_name, season)\u001b[0m\n\u001b[1;32m    117\u001b[0m     path \u001b[38;5;241m=\u001b[39m path \u001b[38;5;241m/\u001b[39m competition_name \u001b[38;5;241m/\u001b[39m season\n\u001b[0;32m--> 119\u001b[0m \u001b[43mcheck_path\u001b[49m\u001b[43m(\u001b[49m\u001b[43mpath\u001b[49m\u001b[43m)\u001b[49m\n\u001b[1;32m    120\u001b[0m \u001b[38;5;28;01mreturn\u001b[39;00m path\n",
            "File \u001b[0;32m~/Projetos/robozao/.venv/robozao/lib/python3.12/site-packages/gandula/providers/pff/local/loader.py:17\u001b[0m, in \u001b[0;36mcheck_path\u001b[0;34m(path)\u001b[0m\n\u001b[1;32m     16\u001b[0m \u001b[38;5;28;01mif\u001b[39;00m \u001b[38;5;129;01mnot\u001b[39;00m Path(path)\u001b[38;5;241m.\u001b[39mexists():\n\u001b[0;32m---> 17\u001b[0m     \u001b[38;5;28;01mraise\u001b[39;00m \u001b[38;5;167;01mFileNotFoundError\u001b[39;00m(\u001b[38;5;124mf\u001b[39m\u001b[38;5;124m'\u001b[39m\u001b[38;5;124mPath \u001b[39m\u001b[38;5;132;01m{\u001b[39;00mpath\u001b[38;5;132;01m}\u001b[39;00m\u001b[38;5;124m does not exist\u001b[39m\u001b[38;5;124m'\u001b[39m)\n",
            "\u001b[0;31mFileNotFoundError\u001b[0m: Path /home/joao/Projetos/robozao/_data/tracking/world-cup/2022 does not exist",
            "\nThe above exception was the direct cause of the following exception:\n",
            "\u001b[0;31mException\u001b[0m                                 Traceback (most recent call last)",
            "Cell \u001b[0;32mIn[92], line 1\u001b[0m\n\u001b[0;32m----> 1\u001b[0m frames \u001b[38;5;241m=\u001b[39m \u001b[43mgandula\u001b[49m\u001b[38;5;241;43m.\u001b[39;49m\u001b[43mget_frames\u001b[49m\u001b[43m(\u001b[49m\n\u001b[1;32m      2\u001b[0m \u001b[43m    \u001b[49m\u001b[43mdata_dir\u001b[49m\u001b[38;5;241;43m=\u001b[39;49m\u001b[38;5;124;43mf\u001b[39;49m\u001b[38;5;124;43m'\u001b[39;49m\u001b[38;5;132;43;01m{\u001b[39;49;00m\u001b[43mdata_dir\u001b[49m\u001b[38;5;132;43;01m}\u001b[39;49;00m\u001b[38;5;124;43m/tracking/world-cup/2022\u001b[39;49m\u001b[38;5;124;43m'\u001b[39;49m\u001b[43m,\u001b[49m\u001b[43m \u001b[49m\u001b[43mmatch_id\u001b[49m\u001b[38;5;241;43m=\u001b[39;49m\u001b[38;5;241;43m3813\u001b[39;49m\n\u001b[1;32m      3\u001b[0m \u001b[43m)\u001b[49m\n",
            "File \u001b[0;32m~/Projetos/robozao/.venv/robozao/lib/python3.12/site-packages/gandula/match.py:103\u001b[0m, in \u001b[0;36mget_frames\u001b[0;34m(data_dir, match_id, competition_name, season)\u001b[0m\n\u001b[1;32m    101\u001b[0m     \u001b[38;5;28;01mreturn\u001b[39;00m [PFF_Frame\u001b[38;5;241m.\u001b[39mmodel_validate(frame, strict\u001b[38;5;241m=\u001b[39m\u001b[38;5;28;01mFalse\u001b[39;00m) \u001b[38;5;28;01mfor\u001b[39;00m frame \u001b[38;5;129;01min\u001b[39;00m frames]\n\u001b[1;32m    102\u001b[0m \u001b[38;5;28;01mexcept\u001b[39;00m \u001b[38;5;167;01mException\u001b[39;00m \u001b[38;5;28;01mas\u001b[39;00m exc:\n\u001b[0;32m--> 103\u001b[0m     \u001b[38;5;28;01mraise\u001b[39;00m \u001b[38;5;167;01mException\u001b[39;00m(\u001b[38;5;124mf\u001b[39m\u001b[38;5;124m'\u001b[39m\u001b[38;5;124mError getting frames for match_id=\u001b[39m\u001b[38;5;132;01m{\u001b[39;00mmatch_id\u001b[38;5;132;01m}\u001b[39;00m\u001b[38;5;124m'\u001b[39m) \u001b[38;5;28;01mfrom\u001b[39;00m \u001b[38;5;21;01mexc\u001b[39;00m\n",
            "\u001b[0;31mException\u001b[0m: Error getting frames for match_id=3813"
          ]
        }
      ],
      "source": [
        "# frames = gandula.get_frames(\n",
        "#     data_dir=f'{data_dir}/tracking/world-cup/2022', match_id=3813\n",
        "# )"
      ]
    },
    {
      "cell_type": "markdown",
      "metadata": {
        "id": "5FRSDZmU6IST"
      },
      "source": [
        "Para loadar os dados de evento, a célula abaixo faz a requisição na API para conseguir os dados de uma partida. Com o gandula, se você possuir uma chave de API da PFF, é só fazer isso."
      ]
    },
    {
      "cell_type": "code",
      "execution_count": null,
      "metadata": {
        "execution": {
          "iopub.execute_input": "2024-09-03T17:03:49.322670Z",
          "iopub.status.busy": "2024-09-03T17:03:49.322166Z",
          "iopub.status.idle": "2024-09-03T17:03:49.333624Z",
          "shell.execute_reply": "2024-09-03T17:03:49.332040Z",
          "shell.execute_reply.started": "2024-09-03T17:03:49.322601Z"
        },
        "id": "Xupe4sf96IST",
        "trusted": true
      },
      "outputs": [],
      "source": [
        "# gandula.get_match_events(3813)"
      ]
    },
    {
      "cell_type": "markdown",
      "metadata": {
        "id": "cvAqphvj6IST"
      },
      "source": [
        "Caso você não tenha acesso a uma chave de API da PFF, mas tenha acesso aos dados em json, você pode utilizar a seguinte célula."
      ]
    },
    {
      "cell_type": "code",
      "execution_count": null,
      "metadata": {
        "execution": {
          "iopub.execute_input": "2024-09-03T17:03:49.335726Z",
          "iopub.status.busy": "2024-09-03T17:03:49.335217Z",
          "iopub.status.idle": "2024-09-03T17:03:49.346217Z",
          "shell.execute_reply": "2024-09-03T17:03:49.344812Z",
          "shell.execute_reply.started": "2024-09-03T17:03:49.335673Z"
        },
        "id": "tyjfY-nG6ISU",
        "trusted": true
      },
      "outputs": [],
      "source": [
        "# events = gandula.get_match(3813, events_path=f'{data_dir}/event/world-cup/2022').gameEvents"
      ]
    },
    {
      "cell_type": "markdown",
      "metadata": {
        "id": "xBsIz0rY6ISU"
      },
      "source": [
        "Com dados de tracking e de evento, podemos unir o útil ao agradável, e criar os enhanced frames: dados de evento melhorados"
      ]
    },
    {
      "cell_type": "code",
      "execution_count": null,
      "metadata": {
        "execution": {
          "iopub.execute_input": "2024-09-03T17:03:49.348639Z",
          "iopub.status.busy": "2024-09-03T17:03:49.348200Z",
          "iopub.status.idle": "2024-09-03T17:03:49.359352Z",
          "shell.execute_reply": "2024-09-03T17:03:49.357971Z",
          "shell.execute_reply.started": "2024-09-03T17:03:49.348593Z"
        },
        "id": "eanuVu3F6ISU",
        "trusted": true
      },
      "outputs": [],
      "source": [
        "# enhanced_events = gandula.get_enhanced_frames(\n",
        "#     match_id=3813, data_dir=f'{data_dir}/tracking/world-cup/2022', events_path=f'{data_dir}/event/world-cup/2022'\n",
        "# )"
      ]
    },
    {
      "cell_type": "markdown",
      "metadata": {
        "id": "uWLnMOzk6ISU"
      },
      "source": [
        "Finalmente, se você estiver interessado apenas em dados de chutes, como é o nosso caso, você pode extraí-los da seguinte maneira"
      ]
    },
    {
      "cell_type": "code",
      "execution_count": null,
      "metadata": {
        "execution": {
          "iopub.execute_input": "2024-09-03T17:03:49.361460Z",
          "iopub.status.busy": "2024-09-03T17:03:49.360954Z",
          "iopub.status.idle": "2024-09-03T17:03:49.370962Z",
          "shell.execute_reply": "2024-09-03T17:03:49.369710Z",
          "shell.execute_reply.started": "2024-09-03T17:03:49.361407Z"
        },
        "id": "UrwSPSA26ISW",
        "trusted": true
      },
      "outputs": [],
      "source": [
        "# game_frames = gandula.get_enhanced_frames(\n",
        "#     data_dir=f'{data_dir}/tracking/world-cup/2022',\n",
        "#     match_id=3813,\n",
        "#     events_path=f'{data_dir}/event/world-cup/2022',\n",
        "# )\n",
        "\n",
        "# shot_frames = gandula.utils.frames.get_shot_frames(game_frames)"
      ]
    },
    {
      "cell_type": "markdown",
      "metadata": {
        "id": "fblWMPyV6ISW"
      },
      "source": [
        "O dado de todos os chutes de todas as partidas do dataset foi pre-processado para facilitar nossas vida. Em outros notebooks da biblioteca, você pode checar como ele foi gerado. Podemos extraí-lo da seguinte forma:"
      ]
    },
    {
      "cell_type": "code",
      "execution_count": 5,
      "metadata": {
        "colab": {
          "base_uri": "https://localhost:8080/",
          "height": 439
        },
        "execution": {
          "iopub.execute_input": "2024-09-03T17:04:06.227693Z",
          "iopub.status.busy": "2024-09-03T17:04:06.227196Z",
          "iopub.status.idle": "2024-09-03T17:04:07.387069Z",
          "shell.execute_reply": "2024-09-03T17:04:07.385700Z",
          "shell.execute_reply.started": "2024-09-03T17:04:06.227646Z"
        },
        "id": "16E8AIiv6ISW",
        "outputId": "979372dc-fb6d-4670-8b72-f10ec4bcb2b4",
        "trusted": true
      },
      "outputs": [],
      "source": [
        "shot_frames = gandula.loader.read_pickle(\n",
        "    'data/enhaced_frames_shots.pkl'\n",
        ")"
      ]
    },
    {
      "cell_type": "markdown",
      "metadata": {
        "id": "sMlfOh1D6ISX"
      },
      "source": [
        "## Exploração dos dados"
      ]
    },
    {
      "cell_type": "markdown",
      "metadata": {
        "id": "KbBBP8w86ISX"
      },
      "source": [
        "Vamos primeiro ver como os chutes aparecem."
      ]
    },
    {
      "cell_type": "code",
      "execution_count": 6,
      "metadata": {
        "execution": {
          "iopub.execute_input": "2024-09-03T17:04:08.990762Z",
          "iopub.status.busy": "2024-09-03T17:04:08.989081Z",
          "iopub.status.idle": "2024-09-03T17:04:08.998798Z",
          "shell.execute_reply": "2024-09-03T17:04:08.997562Z",
          "shell.execute_reply.started": "2024-09-03T17:04:08.990697Z"
        },
        "id": "YhP7X9-e6ISZ",
        "outputId": "275e7d90-ebfe-4a27-d37d-5e4fd5973e10",
        "trusted": true
      },
      "outputs": [
        {
          "data": {
            "text/plain": [
              "list"
            ]
          },
          "execution_count": 6,
          "metadata": {},
          "output_type": "execute_result"
        }
      ],
      "source": [
        "type(shot_frames)"
      ]
    },
    {
      "cell_type": "markdown",
      "metadata": {
        "id": "T7Vogw1J6ISZ"
      },
      "source": [
        "Se é uma lista vamos ver com os chutes aparecem."
      ]
    },
    {
      "cell_type": "code",
      "execution_count": 7,
      "metadata": {
        "execution": {
          "iopub.execute_input": "2024-09-03T17:04:09.365151Z",
          "iopub.status.busy": "2024-09-03T17:04:09.364597Z",
          "iopub.status.idle": "2024-09-03T17:04:09.375149Z",
          "shell.execute_reply": "2024-09-03T17:04:09.373697Z",
          "shell.execute_reply.started": "2024-09-03T17:04:09.365095Z"
        },
        "id": "qUHlFnXK6ISZ",
        "outputId": "9c32ffc7-529f-49af-ec84-ed00e9614d5d",
        "trusted": true
      },
      "outputs": [
        {
          "data": {
            "text/plain": [
              "[{'frame': Frame 9282 - 130.66371,\n",
              "  'event': PFF_PossessionEventType.SHOT=6511176},\n",
              " {'frame': Frame 20398 - 501.567947,\n",
              "  'event': PFF_PossessionEventType.SHOT=6512525},\n",
              " {'frame': Frame 22485 - 571.20425,\n",
              "  'event': PFF_PossessionEventType.SHOT=6511957},\n",
              " {'frame': Frame 36063 - 1024.257303,\n",
              "  'event': PFF_PossessionEventType.SHOT=6511049},\n",
              " {'frame': Frame 41923 - 1219.786165,\n",
              "  'event': PFF_PossessionEventType.SHOT=6511298}]"
            ]
          },
          "execution_count": 7,
          "metadata": {},
          "output_type": "execute_result"
        }
      ],
      "source": [
        "shot_frames[:5]"
      ]
    },
    {
      "cell_type": "markdown",
      "metadata": {
        "id": "Fcn9eGAN6ISe"
      },
      "source": [
        "Bem, não extraímos muita informação disso. Mas conseguimos vizualizar que temos em cada chute, dois valores: o frame do chute, e o evento do chute. Vamos entender um pouco melhor sobre cada um, usando o primeiro chute como exemplo. Por sorte, o gandula nos ajuda também na visualização."
      ]
    },
    {
      "cell_type": "code",
      "execution_count": 8,
      "metadata": {
        "execution": {
          "iopub.execute_input": "2024-09-03T17:04:09.851704Z",
          "iopub.status.busy": "2024-09-03T17:04:09.851228Z",
          "iopub.status.idle": "2024-09-03T17:04:10.240441Z",
          "shell.execute_reply": "2024-09-03T17:04:10.239274Z",
          "shell.execute_reply.started": "2024-09-03T17:04:09.851656Z"
        },
        "id": "EuxuGelU6ISe",
        "outputId": "782169e5-f195-4820-b42a-183dc58666c6",
        "trusted": true
      },
      "outputs": [
        {
          "data": {
            "text/plain": [
              "<Axes: >"
            ]
          },
          "execution_count": 8,
          "metadata": {},
          "output_type": "execute_result"
        },
        {
          "data": {
            "image/png": "[encoded data removed]",
            "text/plain": [
              "<Figure size 1500x1000 with 1 Axes>"
            ]
          },
          "metadata": {},
          "output_type": "display_data"
        }
      ],
      "source": [
        "gandula.view(shot_frames[0]['frame'])"
      ]
    },
    {
      "cell_type": "code",
      "execution_count": 62,
      "metadata": {},
      "outputs": [
        {
          "data": {
            "text/plain": [
              "Possession(duration_seconds=None, end_time_seconds=None, game_clock='02:10', game_event_id=6629878, game_id=10502, inserted_at=datetime.datetime(2022, 12, 3, 17, 25, 49), possession_event_type=<PossessionEventType.SHOT: 'SH'>, start_time_seconds=309.71, updated_at=datetime.datetime(2022, 12, 3, 18, 49, 25), start_frame=9282, end_frame=None)"
            ]
          },
          "execution_count": 62,
          "metadata": {},
          "output_type": "execute_result"
        }
      ],
      "source": [
        "shot_frames[0]['frame'].possession"
      ]
    },
    {
      "cell_type": "code",
      "execution_count": 54,
      "metadata": {},
      "outputs": [
        {
          "data": {
            "text/plain": [
              "gandula.providers.pff.schema.tracking.PFF_Frame"
            ]
          },
          "execution_count": 54,
          "metadata": {},
          "output_type": "execute_result"
        }
      ],
      "source": [
        "type(shot_frames[0]['frame'])"
      ]
    },
    {
      "cell_type": "markdown",
      "metadata": {
        "id": "-3qsfUps6ISe"
      },
      "source": [
        "Parece ser um chute do número 10 do time de azul! Como podemos vizualizar isso no dado em si?"
      ]
    },
    {
      "cell_type": "code",
      "execution_count": 47,
      "metadata": {},
      "outputs": [
        {
          "data": {
            "text/plain": [
              "{'blockerPlayer': None,\n",
              " 'clearerPlayer': None,\n",
              " 'createsSpace': None,\n",
              " 'deflectionPointX': None,\n",
              " 'deflectionPointY': None,\n",
              " 'deflectorBodyType': None,\n",
              " 'deflectorPlayer': None,\n",
              " 'goalLineEndPointX': None,\n",
              " 'goalLineEndPointY': None,\n",
              " 'goalLineStartPointX': None,\n",
              " 'goalLineStartPointY': None,\n",
              " 'goalkeeperPointX': None,\n",
              " 'goalkeeperPointY': None,\n",
              " 'id': None,\n",
              " 'keeperTouchPointX': None,\n",
              " 'keeperTouchPointY': None,\n",
              " 'keeperTouchType': None,\n",
              " 'period': None,\n",
              " 'possessionEvent': None,\n",
              " 'pressurePlayer': None,\n",
              " 'pressureType': None,\n",
              " 'saveHeightType': <ShotHeightType.BOTTOM_THIRD: 'BOTTOMTHIRD'>,\n",
              " 'savePointX': None,\n",
              " 'savePointY': None,\n",
              " 'saveReboundType': <SaveReboundType.RIGHT_OUT_OF_BOX: 'RO'>,\n",
              " 'saverPlayer': {'id': '11241',\n",
              "  'dob': None,\n",
              "  'firstName': None,\n",
              "  'gender': None,\n",
              "  'height': None,\n",
              "  'lastName': None,\n",
              "  'nickname': 'Andries Noppert',\n",
              "  'preferredFoot': None,\n",
              "  'weight': None,\n",
              "  'positionGroupType': None,\n",
              "  'nationality': None,\n",
              "  'secondNationality': None,\n",
              "  'countryOfBirth': None,\n",
              "  'rosters': []},\n",
              " 'shooterPlayer': {'id': '107',\n",
              "  'dob': None,\n",
              "  'firstName': None,\n",
              "  'gender': None,\n",
              "  'height': None,\n",
              "  'lastName': None,\n",
              "  'nickname': 'Christian Pulisic',\n",
              "  'preferredFoot': None,\n",
              "  'weight': None,\n",
              "  'positionGroupType': None,\n",
              "  'nationality': None,\n",
              "  'secondNationality': None,\n",
              "  'countryOfBirth': None,\n",
              "  'rosters': []},\n",
              " 'shotBodyType': <BodyType.LEFT_FOOT: 'L'>,\n",
              " 'shotInitialHeightType': <ShotHeightType.BOTTOM_THIRD: 'BOTTOMTHIRD'>,\n",
              " 'shotNatureType': <ShotNatureType.PLACEMENT: 'A'>,\n",
              " 'shotOutcomeType': <ShotOutcomeType.ON_TARGET: 'S'>,\n",
              " 'shotPointX': -40.281,\n",
              " 'shotPointY': -4.868,\n",
              " 'shotTargetPointX': None,\n",
              " 'shotTargetPointY': None}"
            ]
          },
          "execution_count": 47,
          "metadata": {},
          "output_type": "execute_result"
        }
      ],
      "source": [
        "shot_frames[0]['event'].shootingEvent.model_dump()"
      ]
    },
    {
      "cell_type": "code",
      "execution_count": 74,
      "metadata": {
        "execution": {
          "iopub.execute_input": "2024-09-03T17:04:10.616050Z",
          "iopub.status.busy": "2024-09-03T17:04:10.615605Z",
          "iopub.status.idle": "2024-09-03T17:04:10.687859Z",
          "shell.execute_reply": "2024-09-03T17:04:10.686399Z",
          "shell.execute_reply.started": "2024-09-03T17:04:10.616010Z"
        },
        "id": "bqtWz1iW6ISf",
        "outputId": "630e923a-8e66-469a-d65d-538e608bda9c",
        "trusted": true
      },
      "outputs": [
        {
          "data": {
            "text/plain": [
              "['shooterPlayer',\n",
              " 'shotBodyType',\n",
              " 'shotInitialHeightType',\n",
              " 'shotNatureType',\n",
              " 'shotOutcomeType',\n",
              " 'shotPointX',\n",
              " 'shotPointY']"
            ]
          },
          "execution_count": 74,
          "metadata": {},
          "output_type": "execute_result"
        }
      ],
      "source": [
        "res = shot_frames[3]['event'].shootingEvent.model_dump(\n",
        "    exclude_none=True, exclude_unset=True\n",
        ")\n",
        "\n",
        "list(res.keys())"
      ]
    },
    {
      "cell_type": "code",
      "execution_count": 89,
      "metadata": {},
      "outputs": [
        {
          "name": "stdout",
          "output_type": "stream",
          "text": [
            "8342\n"
          ]
        }
      ],
      "source": [
        "print(shot_frames[80]['event'].shootingEvent.shooterPlayer.id)"
      ]
    },
    {
      "cell_type": "markdown",
      "metadata": {
        "id": "uroJwln76ISg"
      },
      "source": [
        "Podemos observar que a integração dos dados de rastreio e de evento feita pelo gandula nos entrega a bola nas mãos: todo o poder do detalhado dado da PFF na ponta do seu teclado."
      ]
    },
    {
      "cell_type": "markdown",
      "metadata": {
        "id": "SuP0eTCF6ISg"
      },
      "source": [
        "## Tratamento dos dados"
      ]
    },
    {
      "cell_type": "markdown",
      "metadata": {
        "id": "9kXww5jp6ISg"
      },
      "source": [
        "No modelo de xG que vamos desenvolver aqui, vamos precisar extrair o ângulo para o gol e a distância. Além disso, é necessário saber se o chute resultou em gol ou não. Vamos gerar esses dados para cada chute."
      ]
    },
    {
      "cell_type": "markdown",
      "metadata": {
        "id": "7riWr-jO6ISh"
      },
      "source": [
        "Para facilitar os cálculos, vou transformar os dados gerados pelo gandula em um dataframe."
      ]
    },
    {
      "cell_type": "code",
      "execution_count": 11,
      "metadata": {
        "execution": {
          "iopub.execute_input": "2024-09-03T17:04:11.762145Z",
          "iopub.status.busy": "2024-09-03T17:04:11.761248Z",
          "iopub.status.idle": "2024-09-03T17:04:11.833211Z",
          "shell.execute_reply": "2024-09-03T17:04:11.831987Z",
          "shell.execute_reply.started": "2024-09-03T17:04:11.762080Z"
        },
        "id": "EJmoKFav6ISh",
        "outputId": "b779aaf7-d337-4c42-e6dc-f96fe1ab9016",
        "trusted": true
      },
      "outputs": [
        {
          "data": {
            "text/html": [
              "<div>\n",
              "<style scoped>\n",
              "    .dataframe tbody tr th:only-of-type {\n",
              "        vertical-align: middle;\n",
              "    }\n",
              "\n",
              "    .dataframe tbody tr th {\n",
              "        vertical-align: top;\n",
              "    }\n",
              "\n",
              "    .dataframe thead th {\n",
              "        text-align: right;\n",
              "    }\n",
              "</style>\n",
              "<table border=\"1\" class=\"dataframe\">\n",
              "  <thead>\n",
              "    <tr style=\"text-align: right;\">\n",
              "      <th></th>\n",
              "      <th>event_id</th>\n",
              "      <th>frame_id</th>\n",
              "      <th>x</th>\n",
              "      <th>y</th>\n",
              "      <th>outcome</th>\n",
              "      <th>body_part</th>\n",
              "      <th>set_piece</th>\n",
              "    </tr>\n",
              "  </thead>\n",
              "  <tbody>\n",
              "    <tr>\n",
              "      <th>0</th>\n",
              "      <td>6629878</td>\n",
              "      <td>9282</td>\n",
              "      <td>-40.281</td>\n",
              "      <td>-4.868</td>\n",
              "      <td>ShotOutcomeType.ON_TARGET</td>\n",
              "      <td>BodyType.LEFT_FOOT</td>\n",
              "      <td>None</td>\n",
              "    </tr>\n",
              "    <tr>\n",
              "      <th>1</th>\n",
              "      <td>6631191</td>\n",
              "      <td>20398</td>\n",
              "      <td>20.974</td>\n",
              "      <td>-12.711</td>\n",
              "      <td>ShotOutcomeType.OFF_TARGET</td>\n",
              "      <td>BodyType.RIGHT_FOOT</td>\n",
              "      <td>None</td>\n",
              "    </tr>\n",
              "    <tr>\n",
              "      <th>2</th>\n",
              "      <td>6630642</td>\n",
              "      <td>22485</td>\n",
              "      <td>16.634</td>\n",
              "      <td>-13.580</td>\n",
              "      <td>ShotOutcomeType.GOAL</td>\n",
              "      <td>BodyType.RIGHT_FOOT</td>\n",
              "      <td>None</td>\n",
              "    </tr>\n",
              "    <tr>\n",
              "      <th>3</th>\n",
              "      <td>6629751</td>\n",
              "      <td>36063</td>\n",
              "      <td>15.746</td>\n",
              "      <td>14.719</td>\n",
              "      <td>ShotOutcomeType.OFF_TARGET</td>\n",
              "      <td>BodyType.LEFT_FOOT</td>\n",
              "      <td>None</td>\n",
              "    </tr>\n",
              "    <tr>\n",
              "      <th>4</th>\n",
              "      <td>6630005</td>\n",
              "      <td>41923</td>\n",
              "      <td>-4.834</td>\n",
              "      <td>-21.644</td>\n",
              "      <td>ShotOutcomeType.OFF_TARGET</td>\n",
              "      <td>BodyType.RIGHT_FOOT</td>\n",
              "      <td>None</td>\n",
              "    </tr>\n",
              "  </tbody>\n",
              "</table>\n",
              "</div>"
            ],
            "text/plain": [
              "   event_id  frame_id       x       y                     outcome  \\\n",
              "0   6629878      9282 -40.281  -4.868   ShotOutcomeType.ON_TARGET   \n",
              "1   6631191     20398  20.974 -12.711  ShotOutcomeType.OFF_TARGET   \n",
              "2   6630642     22485  16.634 -13.580        ShotOutcomeType.GOAL   \n",
              "3   6629751     36063  15.746  14.719  ShotOutcomeType.OFF_TARGET   \n",
              "4   6630005     41923  -4.834 -21.644  ShotOutcomeType.OFF_TARGET   \n",
              "\n",
              "             body_part set_piece  \n",
              "0   BodyType.LEFT_FOOT      None  \n",
              "1  BodyType.RIGHT_FOOT      None  \n",
              "2  BodyType.RIGHT_FOOT      None  \n",
              "3   BodyType.LEFT_FOOT      None  \n",
              "4  BodyType.RIGHT_FOOT      None  "
            ]
          },
          "execution_count": 11,
          "metadata": {},
          "output_type": "execute_result"
        }
      ],
      "source": [
        "data = [\n",
        "    {\n",
        "        'event_id': frame['frame'].event_id,\n",
        "        'frame_id': frame['frame'].frame_id,\n",
        "        'x': frame['event'].shootingEvent.shotPointX,\n",
        "        'y': frame['event'].shootingEvent.shotPointY,\n",
        "        'outcome': frame['event'].shootingEvent.shotOutcomeType,\n",
        "        'body_part': frame['event'].shootingEvent.shotBodyType,\n",
        "        'set_piece': frame[\n",
        "            'frame'\n",
        "        ].event.setpiece_type,\n",
        "    }\n",
        "    for frame in shot_frames\n",
        "]\n",
        "\n",
        "df = pd.DataFrame(data)\n",
        "df = (\n",
        "    df.drop_duplicates()\n",
        ")  # TODO: fix enhanced shot frames: there shouldn't be duplicates\n",
        "df.head()"
      ]
    },
    {
      "cell_type": "code",
      "execution_count": 12,
      "metadata": {
        "execution": {
          "iopub.execute_input": "2024-09-03T17:04:11.985228Z",
          "iopub.status.busy": "2024-09-03T17:04:11.984683Z",
          "iopub.status.idle": "2024-09-03T17:04:11.993827Z",
          "shell.execute_reply": "2024-09-03T17:04:11.992217Z",
          "shell.execute_reply.started": "2024-09-03T17:04:11.985177Z"
        },
        "id": "X8rX2HEu6ISh",
        "outputId": "321cbc87-068e-4cf9-9f73-424081dcbade",
        "trusted": true
      },
      "outputs": [
        {
          "data": {
            "text/plain": [
              "(1518, 7)"
            ]
          },
          "execution_count": 12,
          "metadata": {},
          "output_type": "execute_result"
        }
      ],
      "source": [
        "df"
      ]
    },
    {
      "cell_type": "markdown",
      "metadata": {
        "id": "KrdNPxZ46ISi"
      },
      "source": [
        "Para extrair a distância, vamos utilizar a distância euclideana. Para fazer o cálculo, precisamos considerar que os chutes podem sair dos dois lados do campo. A PFF tem como padrão nos seus dados direcionar o campo de acordo com o que a câmera mostra na transmissão. Além disso, as coordenadas são centralizadas no meio de campo. Vamos assumir que os atacantes estão sempre no campo adversário para chutar. Com isso, conseguimos extrair corretamente o dado."
      ]
    },
    {
      "cell_type": "markdown",
      "metadata": {
        "id": "ArCgCQrs6ISi"
      },
      "source": [
        "Iremos setar como padrão que o time que está chutando ataca sempre da direita para a esquerda, para facilitar o cálculo. Isso quer dizer que o centro do gol está sempre na coordenada y = 0 e x = 52.5."
      ]
    },
    {
      "cell_type": "code",
      "execution_count": 13,
      "metadata": {
        "execution": {
          "iopub.execute_input": "2024-09-03T17:04:12.560736Z",
          "iopub.status.busy": "2024-09-03T17:04:12.560237Z",
          "iopub.status.idle": "2024-09-03T17:04:12.588864Z",
          "shell.execute_reply": "2024-09-03T17:04:12.587682Z",
          "shell.execute_reply.started": "2024-09-03T17:04:12.560688Z"
        },
        "id": "Lno5CcTl6ISi",
        "outputId": "d25625b2-83d4-4047-cbcd-646cd295412f",
        "trusted": true
      },
      "outputs": [
        {
          "data": {
            "text/html": [
              "<div>\n",
              "<style scoped>\n",
              "    .dataframe tbody tr th:only-of-type {\n",
              "        vertical-align: middle;\n",
              "    }\n",
              "\n",
              "    .dataframe tbody tr th {\n",
              "        vertical-align: top;\n",
              "    }\n",
              "\n",
              "    .dataframe thead th {\n",
              "        text-align: right;\n",
              "    }\n",
              "</style>\n",
              "<table border=\"1\" class=\"dataframe\">\n",
              "  <thead>\n",
              "    <tr style=\"text-align: right;\">\n",
              "      <th></th>\n",
              "      <th>event_id</th>\n",
              "      <th>frame_id</th>\n",
              "      <th>x</th>\n",
              "      <th>y</th>\n",
              "      <th>outcome</th>\n",
              "      <th>body_part</th>\n",
              "      <th>set_piece</th>\n",
              "      <th>dist</th>\n",
              "    </tr>\n",
              "  </thead>\n",
              "  <tbody>\n",
              "    <tr>\n",
              "      <th>0</th>\n",
              "      <td>6629878</td>\n",
              "      <td>9282</td>\n",
              "      <td>40.281</td>\n",
              "      <td>4.868</td>\n",
              "      <td>ShotOutcomeType.ON_TARGET</td>\n",
              "      <td>BodyType.LEFT_FOOT</td>\n",
              "      <td>None</td>\n",
              "      <td>13.152999</td>\n",
              "    </tr>\n",
              "    <tr>\n",
              "      <th>1</th>\n",
              "      <td>6631191</td>\n",
              "      <td>20398</td>\n",
              "      <td>20.974</td>\n",
              "      <td>-12.711</td>\n",
              "      <td>ShotOutcomeType.OFF_TARGET</td>\n",
              "      <td>BodyType.RIGHT_FOOT</td>\n",
              "      <td>None</td>\n",
              "      <td>33.992031</td>\n",
              "    </tr>\n",
              "    <tr>\n",
              "      <th>2</th>\n",
              "      <td>6630642</td>\n",
              "      <td>22485</td>\n",
              "      <td>16.634</td>\n",
              "      <td>-13.580</td>\n",
              "      <td>ShotOutcomeType.GOAL</td>\n",
              "      <td>BodyType.RIGHT_FOOT</td>\n",
              "      <td>None</td>\n",
              "      <td>38.350833</td>\n",
              "    </tr>\n",
              "    <tr>\n",
              "      <th>3</th>\n",
              "      <td>6629751</td>\n",
              "      <td>36063</td>\n",
              "      <td>15.746</td>\n",
              "      <td>14.719</td>\n",
              "      <td>ShotOutcomeType.OFF_TARGET</td>\n",
              "      <td>BodyType.LEFT_FOOT</td>\n",
              "      <td>None</td>\n",
              "      <td>39.591735</td>\n",
              "    </tr>\n",
              "    <tr>\n",
              "      <th>4</th>\n",
              "      <td>6630005</td>\n",
              "      <td>41923</td>\n",
              "      <td>4.834</td>\n",
              "      <td>21.644</td>\n",
              "      <td>ShotOutcomeType.OFF_TARGET</td>\n",
              "      <td>BodyType.RIGHT_FOOT</td>\n",
              "      <td>None</td>\n",
              "      <td>52.349883</td>\n",
              "    </tr>\n",
              "  </tbody>\n",
              "</table>\n",
              "</div>"
            ],
            "text/plain": [
              "   event_id  frame_id       x       y                     outcome  \\\n",
              "0   6629878      9282  40.281   4.868   ShotOutcomeType.ON_TARGET   \n",
              "1   6631191     20398  20.974 -12.711  ShotOutcomeType.OFF_TARGET   \n",
              "2   6630642     22485  16.634 -13.580        ShotOutcomeType.GOAL   \n",
              "3   6629751     36063  15.746  14.719  ShotOutcomeType.OFF_TARGET   \n",
              "4   6630005     41923   4.834  21.644  ShotOutcomeType.OFF_TARGET   \n",
              "\n",
              "             body_part set_piece       dist  \n",
              "0   BodyType.LEFT_FOOT      None  13.152999  \n",
              "1  BodyType.RIGHT_FOOT      None  33.992031  \n",
              "2  BodyType.RIGHT_FOOT      None  38.350833  \n",
              "3   BodyType.LEFT_FOOT      None  39.591735  \n",
              "4  BodyType.RIGHT_FOOT      None  52.349883  "
            ]
          },
          "execution_count": 13,
          "metadata": {},
          "output_type": "execute_result"
        }
      ],
      "source": [
        "# espelhando chutes com x negativo\n",
        "df.loc[df['x'] < 0, 'y'] = df.loc[df['x'] < 0, 'y'] * -1\n",
        "df.loc[df['x'] < 0, 'x'] = df.loc[df['x'] < 0, 'x'] * -1\n",
        "\n",
        "# calculando a distância do chute para o gol\n",
        "df['dist'] = np.sqrt((df['x'] - 52.5) ** 2 + (df['y'] - 0) ** 2)\n",
        "\n",
        "df.head()"
      ]
    },
    {
      "cell_type": "markdown",
      "metadata": {
        "id": "SzfrMHJV6ISj"
      },
      "source": [
        "Para extrair o ângulo, precisamos pensar na geometria do chute.\n",
        "Para calcular o ângulo do gol, θ, tomamos a coordenada (x,y) do chute\n",
        "- x é a distância ao longo da borda do campo desde a linha do gol;\n",
        "- y é a distância do meio do campo.\n",
        "- (0,0) é o ponto na linha de fundo no meio do gol.\n",
        "O ângulo entre dois vetores que apontam para as traves é:\n",
        "$$\n",
        "\\tan(\\theta) = \\frac{7.32x}{x^2 + y^2 - \\left(\\frac{7.32}{2}\\right)^2}\n",
        "$$\n",
        "- onde 7.32 é o tamanho do gol.\n"
      ]
    },
    {
      "cell_type": "code",
      "execution_count": 14,
      "metadata": {
        "execution": {
          "iopub.execute_input": "2024-09-03T17:04:12.980248Z",
          "iopub.status.busy": "2024-09-03T17:04:12.979625Z",
          "iopub.status.idle": "2024-09-03T17:04:13.002805Z",
          "shell.execute_reply": "2024-09-03T17:04:13.001422Z",
          "shell.execute_reply.started": "2024-09-03T17:04:12.980183Z"
        },
        "id": "BU97jSca6ISj",
        "outputId": "06e9e698-1e50-420f-9816-2f4c343bcb18",
        "trusted": true
      },
      "outputs": [
        {
          "data": {
            "text/html": [
              "<div>\n",
              "<style scoped>\n",
              "    .dataframe tbody tr th:only-of-type {\n",
              "        vertical-align: middle;\n",
              "    }\n",
              "\n",
              "    .dataframe tbody tr th {\n",
              "        vertical-align: top;\n",
              "    }\n",
              "\n",
              "    .dataframe thead th {\n",
              "        text-align: right;\n",
              "    }\n",
              "</style>\n",
              "<table border=\"1\" class=\"dataframe\">\n",
              "  <thead>\n",
              "    <tr style=\"text-align: right;\">\n",
              "      <th></th>\n",
              "      <th>event_id</th>\n",
              "      <th>frame_id</th>\n",
              "      <th>x</th>\n",
              "      <th>y</th>\n",
              "      <th>outcome</th>\n",
              "      <th>body_part</th>\n",
              "      <th>set_piece</th>\n",
              "      <th>dist</th>\n",
              "      <th>ang</th>\n",
              "    </tr>\n",
              "  </thead>\n",
              "  <tbody>\n",
              "    <tr>\n",
              "      <th>0</th>\n",
              "      <td>6629878</td>\n",
              "      <td>9282</td>\n",
              "      <td>40.281</td>\n",
              "      <td>4.868</td>\n",
              "      <td>ShotOutcomeType.ON_TARGET</td>\n",
              "      <td>BodyType.LEFT_FOOT</td>\n",
              "      <td>None</td>\n",
              "      <td>13.152999</td>\n",
              "      <td>0.179112</td>\n",
              "    </tr>\n",
              "    <tr>\n",
              "      <th>1</th>\n",
              "      <td>6631191</td>\n",
              "      <td>20398</td>\n",
              "      <td>20.974</td>\n",
              "      <td>-12.711</td>\n",
              "      <td>ShotOutcomeType.OFF_TARGET</td>\n",
              "      <td>BodyType.RIGHT_FOOT</td>\n",
              "      <td>None</td>\n",
              "      <td>33.992031</td>\n",
              "      <td>0.180536</td>\n",
              "    </tr>\n",
              "    <tr>\n",
              "      <th>2</th>\n",
              "      <td>6630642</td>\n",
              "      <td>22485</td>\n",
              "      <td>16.634</td>\n",
              "      <td>-13.580</td>\n",
              "      <td>ShotOutcomeType.GOAL</td>\n",
              "      <td>BodyType.RIGHT_FOOT</td>\n",
              "      <td>None</td>\n",
              "      <td>38.350833</td>\n",
              "      <td>0.169025</td>\n",
              "    </tr>\n",
              "    <tr>\n",
              "      <th>3</th>\n",
              "      <td>6629751</td>\n",
              "      <td>36063</td>\n",
              "      <td>15.746</td>\n",
              "      <td>14.719</td>\n",
              "      <td>ShotOutcomeType.OFF_TARGET</td>\n",
              "      <td>BodyType.LEFT_FOOT</td>\n",
              "      <td>None</td>\n",
              "      <td>39.591735</td>\n",
              "      <td>0.363845</td>\n",
              "    </tr>\n",
              "    <tr>\n",
              "      <th>4</th>\n",
              "      <td>6630005</td>\n",
              "      <td>41923</td>\n",
              "      <td>4.834</td>\n",
              "      <td>21.644</td>\n",
              "      <td>ShotOutcomeType.OFF_TARGET</td>\n",
              "      <td>BodyType.RIGHT_FOOT</td>\n",
              "      <td>None</td>\n",
              "      <td>52.349883</td>\n",
              "      <td>0.153607</td>\n",
              "    </tr>\n",
              "  </tbody>\n",
              "</table>\n",
              "</div>"
            ],
            "text/plain": [
              "   event_id  frame_id       x       y                     outcome  \\\n",
              "0   6629878      9282  40.281   4.868   ShotOutcomeType.ON_TARGET   \n",
              "1   6631191     20398  20.974 -12.711  ShotOutcomeType.OFF_TARGET   \n",
              "2   6630642     22485  16.634 -13.580        ShotOutcomeType.GOAL   \n",
              "3   6629751     36063  15.746  14.719  ShotOutcomeType.OFF_TARGET   \n",
              "4   6630005     41923   4.834  21.644  ShotOutcomeType.OFF_TARGET   \n",
              "\n",
              "             body_part set_piece       dist       ang  \n",
              "0   BodyType.LEFT_FOOT      None  13.152999  0.179112  \n",
              "1  BodyType.RIGHT_FOOT      None  33.992031  0.180536  \n",
              "2  BodyType.RIGHT_FOOT      None  38.350833  0.169025  \n",
              "3   BodyType.LEFT_FOOT      None  39.591735  0.363845  \n",
              "4  BodyType.RIGHT_FOOT      None  52.349883  0.153607  "
            ]
          },
          "execution_count": 14,
          "metadata": {},
          "output_type": "execute_result"
        }
      ],
      "source": [
        "df['ang'] = np.arctan((7.32 * df['x']) / (df['x'] ** 2 + (7.32 - df['y']) ** 2))\n",
        "\n",
        "df.head()"
      ]
    },
    {
      "cell_type": "markdown",
      "metadata": {
        "id": "UZAg2HkC6ISj"
      },
      "source": [
        "Por fim, vamos extrai quando temos um gol e quando não."
      ]
    },
    {
      "cell_type": "code",
      "execution_count": 15,
      "metadata": {
        "execution": {
          "iopub.execute_input": "2024-09-03T17:04:13.390590Z",
          "iopub.status.busy": "2024-09-03T17:04:13.390108Z",
          "iopub.status.idle": "2024-09-03T17:04:13.410834Z",
          "shell.execute_reply": "2024-09-03T17:04:13.409578Z",
          "shell.execute_reply.started": "2024-09-03T17:04:13.390543Z"
        },
        "id": "WE9y6uTU6ISk",
        "outputId": "5b418d6a-8cad-49cc-fed0-c3dc7683abf4",
        "trusted": true
      },
      "outputs": [
        {
          "data": {
            "text/html": [
              "<div>\n",
              "<style scoped>\n",
              "    .dataframe tbody tr th:only-of-type {\n",
              "        vertical-align: middle;\n",
              "    }\n",
              "\n",
              "    .dataframe tbody tr th {\n",
              "        vertical-align: top;\n",
              "    }\n",
              "\n",
              "    .dataframe thead th {\n",
              "        text-align: right;\n",
              "    }\n",
              "</style>\n",
              "<table border=\"1\" class=\"dataframe\">\n",
              "  <thead>\n",
              "    <tr style=\"text-align: right;\">\n",
              "      <th></th>\n",
              "      <th>event_id</th>\n",
              "      <th>frame_id</th>\n",
              "      <th>x</th>\n",
              "      <th>y</th>\n",
              "      <th>outcome</th>\n",
              "      <th>body_part</th>\n",
              "      <th>set_piece</th>\n",
              "      <th>dist</th>\n",
              "      <th>ang</th>\n",
              "      <th>gol</th>\n",
              "    </tr>\n",
              "  </thead>\n",
              "  <tbody>\n",
              "    <tr>\n",
              "      <th>0</th>\n",
              "      <td>6629878</td>\n",
              "      <td>9282</td>\n",
              "      <td>40.281</td>\n",
              "      <td>4.868</td>\n",
              "      <td>ShotOutcomeType.ON_TARGET</td>\n",
              "      <td>BodyType.LEFT_FOOT</td>\n",
              "      <td>None</td>\n",
              "      <td>13.152999</td>\n",
              "      <td>0.179112</td>\n",
              "      <td>False</td>\n",
              "    </tr>\n",
              "    <tr>\n",
              "      <th>1</th>\n",
              "      <td>6631191</td>\n",
              "      <td>20398</td>\n",
              "      <td>20.974</td>\n",
              "      <td>-12.711</td>\n",
              "      <td>ShotOutcomeType.OFF_TARGET</td>\n",
              "      <td>BodyType.RIGHT_FOOT</td>\n",
              "      <td>None</td>\n",
              "      <td>33.992031</td>\n",
              "      <td>0.180536</td>\n",
              "      <td>False</td>\n",
              "    </tr>\n",
              "    <tr>\n",
              "      <th>2</th>\n",
              "      <td>6630642</td>\n",
              "      <td>22485</td>\n",
              "      <td>16.634</td>\n",
              "      <td>-13.580</td>\n",
              "      <td>ShotOutcomeType.GOAL</td>\n",
              "      <td>BodyType.RIGHT_FOOT</td>\n",
              "      <td>None</td>\n",
              "      <td>38.350833</td>\n",
              "      <td>0.169025</td>\n",
              "      <td>True</td>\n",
              "    </tr>\n",
              "    <tr>\n",
              "      <th>3</th>\n",
              "      <td>6629751</td>\n",
              "      <td>36063</td>\n",
              "      <td>15.746</td>\n",
              "      <td>14.719</td>\n",
              "      <td>ShotOutcomeType.OFF_TARGET</td>\n",
              "      <td>BodyType.LEFT_FOOT</td>\n",
              "      <td>None</td>\n",
              "      <td>39.591735</td>\n",
              "      <td>0.363845</td>\n",
              "      <td>False</td>\n",
              "    </tr>\n",
              "    <tr>\n",
              "      <th>4</th>\n",
              "      <td>6630005</td>\n",
              "      <td>41923</td>\n",
              "      <td>4.834</td>\n",
              "      <td>21.644</td>\n",
              "      <td>ShotOutcomeType.OFF_TARGET</td>\n",
              "      <td>BodyType.RIGHT_FOOT</td>\n",
              "      <td>None</td>\n",
              "      <td>52.349883</td>\n",
              "      <td>0.153607</td>\n",
              "      <td>False</td>\n",
              "    </tr>\n",
              "  </tbody>\n",
              "</table>\n",
              "</div>"
            ],
            "text/plain": [
              "   event_id  frame_id       x       y                     outcome  \\\n",
              "0   6629878      9282  40.281   4.868   ShotOutcomeType.ON_TARGET   \n",
              "1   6631191     20398  20.974 -12.711  ShotOutcomeType.OFF_TARGET   \n",
              "2   6630642     22485  16.634 -13.580        ShotOutcomeType.GOAL   \n",
              "3   6629751     36063  15.746  14.719  ShotOutcomeType.OFF_TARGET   \n",
              "4   6630005     41923   4.834  21.644  ShotOutcomeType.OFF_TARGET   \n",
              "\n",
              "             body_part set_piece       dist       ang    gol  \n",
              "0   BodyType.LEFT_FOOT      None  13.152999  0.179112  False  \n",
              "1  BodyType.RIGHT_FOOT      None  33.992031  0.180536  False  \n",
              "2  BodyType.RIGHT_FOOT      None  38.350833  0.169025   True  \n",
              "3   BodyType.LEFT_FOOT      None  39.591735  0.363845  False  \n",
              "4  BodyType.RIGHT_FOOT      None  52.349883  0.153607  False  "
            ]
          },
          "execution_count": 15,
          "metadata": {},
          "output_type": "execute_result"
        }
      ],
      "source": [
        "df['gol'] = df['outcome'] == gandula.providers.pff.schema.event.ShotOutcomeType.GOAL\n",
        "df.head()"
      ]
    },
    {
      "cell_type": "markdown",
      "metadata": {
        "id": "U263xkpX6ISk"
      },
      "source": [
        "Além do ângulo, é importante temos mais insighs sobre comos chutes são feitos e sua distribuição"
      ]
    },
    {
      "cell_type": "code",
      "execution_count": 16,
      "metadata": {
        "execution": {
          "iopub.execute_input": "2024-09-03T17:04:13.794654Z",
          "iopub.status.busy": "2024-09-03T17:04:13.794130Z",
          "iopub.status.idle": "2024-09-03T17:04:13.807399Z",
          "shell.execute_reply": "2024-09-03T17:04:13.806173Z",
          "shell.execute_reply.started": "2024-09-03T17:04:13.794605Z"
        },
        "id": "TST3w4Cf6ISk",
        "outputId": "b857d503-d411-4a12-c38f-845676e99aa6",
        "trusted": true
      },
      "outputs": [
        {
          "data": {
            "text/plain": [
              "body_part\n",
              "BodyType.RIGHT_FOOT         768\n",
              "BodyType.LEFT_FOOT          466\n",
              "BodyType.HEAD               261\n",
              "BodyType.RIGHT_BACK_HEEL      4\n",
              "BodyType.LEFT_KNEE            4\n",
              "BodyType.RIGHT_SHIN           4\n",
              "BodyType.LEFT_SHOULDER        3\n",
              "BodyType.LEFT_SHIN            2\n",
              "BodyType.RIGHT_KNEE           2\n",
              "BodyType.RIGHT_THIGH          2\n",
              "BodyType.RIGHT_HAND           1\n",
              "BodyType.TWO_HAND_PALM        1\n",
              "Name: count, dtype: int64"
            ]
          },
          "execution_count": 16,
          "metadata": {},
          "output_type": "execute_result"
        }
      ],
      "source": [
        "df['body_part'].value_counts()"
      ]
    },
    {
      "cell_type": "code",
      "execution_count": 17,
      "metadata": {
        "execution": {
          "iopub.execute_input": "2024-09-03T17:04:14.090401Z",
          "iopub.status.busy": "2024-09-03T17:04:14.089944Z",
          "iopub.status.idle": "2024-09-03T17:04:14.100746Z",
          "shell.execute_reply": "2024-09-03T17:04:14.099274Z",
          "shell.execute_reply.started": "2024-09-03T17:04:14.090353Z"
        },
        "id": "1xGDVe_T6ISk",
        "outputId": "e3980381-7032-419c-b3e2-c0002315f76a",
        "trusted": true
      },
      "outputs": [
        {
          "data": {
            "text/plain": [
              "Series([], Name: count, dtype: int64)"
            ]
          },
          "execution_count": 17,
          "metadata": {},
          "output_type": "execute_result"
        }
      ],
      "source": [
        "df['set_piece'].value_counts()"
      ]
    },
    {
      "cell_type": "code",
      "execution_count": 18,
      "metadata": {
        "execution": {
          "iopub.execute_input": "2024-09-03T17:04:14.289663Z",
          "iopub.status.busy": "2024-09-03T17:04:14.288880Z",
          "iopub.status.idle": "2024-09-03T17:04:14.322254Z",
          "shell.execute_reply": "2024-09-03T17:04:14.320545Z",
          "shell.execute_reply.started": "2024-09-03T17:04:14.289589Z"
        },
        "id": "iTM_Wcgt6ISk",
        "outputId": "2146e61b-d1a3-4842-cb00-2057fd96d9d9",
        "trusted": true
      },
      "outputs": [
        {
          "data": {
            "text/plain": [
              "np.float64(0.1251646903820817)"
            ]
          },
          "execution_count": 18,
          "metadata": {},
          "output_type": "execute_result"
        }
      ],
      "source": [
        "df['gol'].sum() / df['gol'].count()"
      ]
    },
    {
      "cell_type": "markdown",
      "metadata": {
        "id": "7m1Rb5BY6ISl"
      },
      "source": [
        "Antes de continuar, vamos limpar um pouco o dado. A natureza de cabeceios é um pouco diferente de chutes. Vamos buscar analisar apenas chutes."
      ]
    },
    {
      "cell_type": "code",
      "execution_count": 19,
      "metadata": {
        "execution": {
          "iopub.execute_input": "2024-09-03T17:04:14.663740Z",
          "iopub.status.busy": "2024-09-03T17:04:14.663143Z",
          "iopub.status.idle": "2024-09-03T17:04:14.677393Z",
          "shell.execute_reply": "2024-09-03T17:04:14.676284Z",
          "shell.execute_reply.started": "2024-09-03T17:04:14.663680Z"
        },
        "id": "RbQmYvN36ISl",
        "trusted": true
      },
      "outputs": [],
      "source": [
        "shots = df[\n",
        "    df['body_part'].isin(\n",
        "        [\n",
        "            gandula.providers.pff.schema.event.BodyType.RIGHT_FOOT,\n",
        "            gandula.providers.pff.schema.event.BodyType.LEFT_FOOT,\n",
        "            gandula.providers.pff.schema.event.BodyType.RIGHT_KNEE,\n",
        "            gandula.providers.pff.schema.event.BodyType.LEFT_KNEE,\n",
        "            gandula.providers.pff.schema.event.BodyType.RIGHT_BACK_HEEL,\n",
        "            gandula.providers.pff.schema.event.BodyType.LEFT_BACK_HEEL,\n",
        "            gandula.providers.pff.schema.event.BodyType.RIGHT_THIGH,\n",
        "            gandula.providers.pff.schema.event.BodyType.LEFT_THIGH,\n",
        "        ]\n",
        "    )\n",
        "]"
      ]
    },
    {
      "cell_type": "markdown",
      "metadata": {
        "id": "Uy7Ii0WZ6ISl"
      },
      "source": [
        "Vamos agora entender um pouco mais sobre como esssas mediads influenciam em obter um gol ou não."
      ]
    },
    {
      "cell_type": "markdown",
      "metadata": {
        "id": "Y4gs6tFq6ISl"
      },
      "source": [
        "## Análise: Distância do Gol"
      ]
    },
    {
      "cell_type": "markdown",
      "metadata": {
        "id": "w8BdbiKd6ISm"
      },
      "source": [
        "A primeira intuição que temos é que quanto mais distante do gol, mais difícil de se marcar um gol. Vamos verificar se esse é o caso."
      ]
    },
    {
      "cell_type": "markdown",
      "metadata": {
        "id": "1m9q7xxV6ISn"
      },
      "source": [
        "Vamos usar o gandula para plotar a distribuição dos chutes que nos selecionamos e também plotar quais desses chutes resultam em gols."
      ]
    },
    {
      "cell_type": "code",
      "execution_count": 20,
      "metadata": {
        "execution": {
          "iopub.execute_input": "2024-09-03T17:04:15.695300Z",
          "iopub.status.busy": "2024-09-03T17:04:15.694729Z",
          "iopub.status.idle": "2024-09-03T17:04:15.964242Z",
          "shell.execute_reply": "2024-09-03T17:04:15.962613Z",
          "shell.execute_reply.started": "2024-09-03T17:04:15.695243Z"
        },
        "id": "xtomF54x6ISn",
        "outputId": "d6f505fb-1843-4bcf-8a02-3c266363cfbd",
        "trusted": true
      },
      "outputs": [
        {
          "data": {
            "image/png": "[encoded data removed]",
            "text/plain": [
              "<Figure size 1200x800 with 1 Axes>"
            ]
          },
          "metadata": {},
          "output_type": "display_data"
        }
      ],
      "source": [
        "pitch = gandula.viz.pitch.Pitch()\n",
        "gandula.plot_shot_map(pitch, shots)"
      ]
    },
    {
      "cell_type": "code",
      "execution_count": 21,
      "metadata": {
        "execution": {
          "iopub.execute_input": "2024-09-03T17:04:15.967982Z",
          "iopub.status.busy": "2024-09-03T17:04:15.966990Z",
          "iopub.status.idle": "2024-09-03T17:04:15.977882Z",
          "shell.execute_reply": "2024-09-03T17:04:15.976327Z",
          "shell.execute_reply.started": "2024-09-03T17:04:15.967920Z"
        },
        "id": "tOldw3wF6ISn",
        "outputId": "2029ff51-ccf7-4783-d296-7afd2a2bd52d",
        "trusted": true
      },
      "outputs": [
        {
          "data": {
            "text/plain": [
              "(160, 10)"
            ]
          },
          "execution_count": 21,
          "metadata": {},
          "output_type": "execute_result"
        }
      ],
      "source": [
        "shots[shots['gol']].shape"
      ]
    },
    {
      "cell_type": "code",
      "execution_count": 22,
      "metadata": {
        "execution": {
          "iopub.execute_input": "2024-09-03T17:04:16.058989Z",
          "iopub.status.busy": "2024-09-03T17:04:16.058405Z",
          "iopub.status.idle": "2024-09-03T17:04:16.462073Z",
          "shell.execute_reply": "2024-09-03T17:04:16.460671Z",
          "shell.execute_reply.started": "2024-09-03T17:04:16.058931Z"
        },
        "id": "kBLg1FOL6ISn",
        "outputId": "a01e1174-b64d-447d-d965-d5507585658f",
        "trusted": true
      },
      "outputs": [
        {
          "data": {
            "image/png": "[encoded data removed]",
            "text/plain": [
              "<Figure size 1200x800 with 2 Axes>"
            ]
          },
          "metadata": {},
          "output_type": "display_data"
        }
      ],
      "source": [
        "pitch = gandula.viz.pitch.Pitch()\n",
        "gandula.plot_shot_map(pitch, shots, circle=False, distribution=True)"
      ]
    },
    {
      "cell_type": "code",
      "execution_count": 23,
      "metadata": {
        "execution": {
          "iopub.execute_input": "2024-09-03T17:04:16.465120Z",
          "iopub.status.busy": "2024-09-03T17:04:16.464562Z",
          "iopub.status.idle": "2024-09-03T17:04:16.891994Z",
          "shell.execute_reply": "2024-09-03T17:04:16.890529Z",
          "shell.execute_reply.started": "2024-09-03T17:04:16.465064Z"
        },
        "id": "W0ctuVQR6ISo",
        "outputId": "7246d2f7-6abe-4831-acc8-81be84444fad",
        "trusted": true
      },
      "outputs": [
        {
          "data": {
            "image/png": "[encoded data removed]",
            "text/plain": [
              "<Figure size 1200x800 with 2 Axes>"
            ]
          },
          "metadata": {},
          "output_type": "display_data"
        }
      ],
      "source": [
        "pitch = gandula.viz.pitch.Pitch()\n",
        "\n",
        "gandula.plot_shot_map(pitch, shots[shots['gol']], circle=False, distribution=True)"
      ]
    },
    {
      "cell_type": "markdown",
      "metadata": {
        "id": "R-pNrmzJ6ISo"
      },
      "source": [
        "Bem, se temos o número de chutes em cada quadrante do campo, e o número de gols em cada um deles, podemos dividí-los, e teremos a probabilidade de termos um gol em cada quadrante."
      ]
    },
    {
      "cell_type": "code",
      "execution_count": 24,
      "metadata": {
        "execution": {
          "iopub.execute_input": "2024-09-03T17:04:16.894994Z",
          "iopub.status.busy": "2024-09-03T17:04:16.894456Z",
          "iopub.status.idle": "2024-09-03T17:04:17.313741Z",
          "shell.execute_reply": "2024-09-03T17:04:17.312467Z",
          "shell.execute_reply.started": "2024-09-03T17:04:16.894936Z"
        },
        "id": "XquDtD286ISo",
        "outputId": "da37be90-2e3f-4483-fc09-1948fc4a4382",
        "trusted": true
      },
      "outputs": [
        {
          "name": "stderr",
          "output_type": "stream",
          "text": [
            "/tmp/ipykernel_179308/1675855658.py:23: RuntimeWarning: invalid value encountered in divide\n",
            "  prob_goal = statistic_goals / statistic_shots\n"
          ]
        },
        {
          "data": {
            "image/png": "[encoded data removed]",
            "text/plain": [
              "<Figure size 1200x800 with 2 Axes>"
            ]
          },
          "metadata": {},
          "output_type": "display_data"
        }
      ],
      "source": [
        "shots_for_plot = shots.copy()\n",
        "\n",
        "# puts data on [0,105],[0,68] instead of [-52.5,52.5],[-34,34]\n",
        "shots_for_plot.loc[:, 'x'] = shots_for_plot.loc[:, 'x'] + pitch.width / 2\n",
        "shots_for_plot.loc[:, 'y'] = shots_for_plot.loc[:, 'y'] + pitch.height / 2\n",
        "\n",
        "goals_for_plot = shots_for_plot[shots_for_plot['gol']]\n",
        "\n",
        "pitch = gandula.viz.pitch.Pitch()\n",
        "ax = pitch.draw_pitch()\n",
        "\n",
        "x_bins = np.arange(0, pitch.width + 1)\n",
        "y_bins = np.arange(0, pitch.height + 1)\n",
        "\n",
        "statistic_shots, _, _ = np.histogram2d(\n",
        "    shots_for_plot['x'], shots_for_plot['y'], bins=[x_bins, y_bins]\n",
        ")\n",
        "\n",
        "statistic_goals, _, _ = np.histogram2d(\n",
        "    goals_for_plot['x'], goals_for_plot['y'], bins=[x_bins, y_bins]\n",
        ")\n",
        "\n",
        "prob_goal = statistic_goals / statistic_shots\n",
        "\n",
        "plt.imshow(\n",
        "    prob_goal.T,\n",
        "    origin='lower',\n",
        "    extent=(0, pitch.width, 0, pitch.height),\n",
        "    aspect='auto',\n",
        "    cmap='Blues',\n",
        ")\n",
        "plt.colorbar(label='Probability of goal')\n",
        "plt.title('Probability of goal')\n",
        "\n",
        "plt.show()"
      ]
    },
    {
      "cell_type": "markdown",
      "metadata": {
        "id": "WNXFuVer6ISo"
      },
      "source": [
        "Então, isso é xG? Não! Não queremos overfitar o modelo: queremos que ele aprenda, dado algumas características, qual a qualidade que aquele chute apresenta."
      ]
    },
    {
      "cell_type": "markdown",
      "metadata": {
        "id": "33d2AF5f6ISp"
      },
      "source": [
        "## Análise: Distância do Gol"
      ]
    },
    {
      "cell_type": "markdown",
      "metadata": {
        "id": "gWns99m86ISp"
      },
      "source": [
        "Vamos usar o conceito de regressão logística para calcular a probabilidade de obtermos um gol dado a distância do chute."
      ]
    },
    {
      "cell_type": "markdown",
      "metadata": {
        "id": "hSKYwdH46ISp"
      },
      "source": [
        "Primeiro, vamos plotar se um gol foi marcado dado um a distância do chute."
      ]
    },
    {
      "cell_type": "code",
      "execution_count": 25,
      "metadata": {
        "execution": {
          "iopub.execute_input": "2024-09-03T17:04:17.799811Z",
          "iopub.status.busy": "2024-09-03T17:04:17.799303Z",
          "iopub.status.idle": "2024-09-03T17:04:18.027981Z",
          "shell.execute_reply": "2024-09-03T17:04:18.026574Z",
          "shell.execute_reply.started": "2024-09-03T17:04:17.799764Z"
        },
        "id": "YC-YZrCD6ISp",
        "outputId": "181d3521-582a-441d-ff6a-9b68ef5c95f9",
        "trusted": true
      },
      "outputs": [
        {
          "data": {
            "image/png": "[encoded data removed]",
            "text/plain": [
              "<Figure size 640x480 with 1 Axes>"
            ]
          },
          "metadata": {},
          "output_type": "display_data"
        }
      ],
      "source": [
        "fig, ax = plt.subplots()\n",
        "ax.plot(\n",
        "    shots['dist'],\n",
        "    shots['gol'],\n",
        "    linestyle='none',\n",
        "    marker='.',\n",
        "    markersize=6,\n",
        "    color='black',\n",
        ")\n",
        "ax.set_ylabel('Goal Marcado')\n",
        "ax.set_xlabel('Distância do chute para o gol (metros)')\n",
        "plt.ylim((-0.05, 1.05))\n",
        "ax.set_yticks([0, 1])\n",
        "ax.set_yticklabels(['Não', 'Sim'])\n",
        "plt.show()"
      ]
    },
    {
      "cell_type": "markdown",
      "metadata": {
        "id": "qgRtRqYP6ISq"
      },
      "source": [
        "## Investigando a relação entre a probabilidade de marcar gols e a distância\n",
        "Queremos descobrir se a distância influencia a probabilidade de marcar um gol. Primeiro, vamos plotar a probablidade de termos um gol dado o ângulo usando a mesma estratégia de antes: agrupando os dados fazendo a divisão."
      ]
    },
    {
      "cell_type": "code",
      "execution_count": 26,
      "metadata": {
        "execution": {
          "iopub.execute_input": "2024-09-03T17:04:18.823032Z",
          "iopub.status.busy": "2024-09-03T17:04:18.822572Z",
          "iopub.status.idle": "2024-09-03T17:04:19.368539Z",
          "shell.execute_reply": "2024-09-03T17:04:19.367248Z",
          "shell.execute_reply.started": "2024-09-03T17:04:18.822988Z"
        },
        "id": "ZddXfoQz6ISq",
        "outputId": "6506d35b-aa72-4f46-a4e1-e676a8a23c23",
        "trusted": true
      },
      "outputs": [
        {
          "data": {
            "image/png": "[encoded data removed]",
            "text/plain": [
              "<Figure size 640x480 with 1 Axes>"
            ]
          },
          "metadata": {},
          "output_type": "display_data"
        }
      ],
      "source": [
        "# number of shots from dist\n",
        "shotcount_dist = np.histogram(shots['dist'], bins=40, range=[0, 70])\n",
        "\n",
        "# number of goals from dist\n",
        "goalcount_dist = np.histogram(\n",
        "    shots[shots['gol']]['dist'], bins=40, range=[0, 70]\n",
        ")\n",
        "np.seterr(divide='ignore', invalid='ignore')\n",
        "\n",
        "# probability of scoring goal\n",
        "prob_goal = np.divide(goalcount_dist[0], shotcount_dist[0])\n",
        "dist = shotcount_dist[1]\n",
        "middist = (dist[:-1] + dist[1:]) / 2\n",
        "\n",
        "# make plot\n",
        "fig, ax = plt.subplots()\n",
        "ax.plot(middist, prob_goal, linestyle='none', marker='.', markersize=12, color='black')\n",
        "ax.set_ylabel('Probability chance scored')\n",
        "ax.set_xlabel('Shot angle (degrees)')\n",
        "ax.spines['top'].set_visible(False)\n",
        "ax.spines['right'].set_visible(False)\n",
        "plt.show()"
      ]
    },
    {
      "cell_type": "markdown",
      "metadata": {
        "id": "BQi2nqEV6ISq"
      },
      "source": [
        "### Ajuste de regressão logística com coeficientes aleatórios\n",
        "Nosso conjunto de dados foi ajustado a uma curva de regressão logística com parâmetros definidos - 10 para o intercepto e -0.25 para a distância. No entanto, é muito provável que esses não sejam os melhores estimadores dos parâmetros verdadeiros."
      ]
    },
    {
      "cell_type": "code",
      "execution_count": 27,
      "metadata": {
        "execution": {
          "iopub.execute_input": "2024-09-03T17:04:19.599292Z",
          "iopub.status.busy": "2024-09-03T17:04:19.598827Z",
          "iopub.status.idle": "2024-09-03T17:04:19.852979Z",
          "shell.execute_reply": "2024-09-03T17:04:19.851752Z",
          "shell.execute_reply.started": "2024-09-03T17:04:19.599247Z"
        },
        "id": "3bfLm0V26ISq",
        "outputId": "f1e1a931-f2de-48e0-e4c9-faaa79bfbe06",
        "trusted": true
      },
      "outputs": [
        {
          "data": {
            "image/png": "[encoded data removed]",
            "text/plain": [
              "<Figure size 640x480 with 1 Axes>"
            ]
          },
          "metadata": {},
          "output_type": "display_data"
        }
      ],
      "source": [
        "fig, ax = plt.subplots()\n",
        "b = [10, -0.25]\n",
        "x = np.arange(105, step=0.1)\n",
        "y = 1 / (1 + np.exp(b[0] + b[1] * x ))\n",
        "# plot line\n",
        "ax.plot(middist, prob_goal, linestyle='none', marker='.', markersize=12, color='black')\n",
        "# plot logistic function\n",
        "ax.plot(x, y, linestyle='solid', color='black')\n",
        "plt.show()"
      ]
    },
    {
      "cell_type": "markdown",
      "metadata": {
        "id": "BloMquM06ISr"
      },
      "source": [
        "### Calculando a verossimilhança logarítmica\n",
        "Os melhores parâmetros são aqueles que maximizam a verossimilhança logarítmica."
      ]
    },
    {
      "cell_type": "code",
      "execution_count": 28,
      "metadata": {
        "execution": {
          "iopub.execute_input": "2024-09-03T17:04:20.365746Z",
          "iopub.status.busy": "2024-09-03T17:04:20.365243Z",
          "iopub.status.idle": "2024-09-03T17:04:22.095311Z",
          "shell.execute_reply": "2024-09-03T17:04:22.093141Z",
          "shell.execute_reply.started": "2024-09-03T17:04:20.365699Z"
        },
        "id": "Dphgxy6L6ISr",
        "outputId": "3f42aaee-cf7e-48b8-bcc2-b2f47b4d2994",
        "trusted": true
      },
      "outputs": [
        {
          "data": {
            "image/png": "[encoded data removed]",
            "text/plain": [
              "<Figure size 640x480 with 1 Axes>"
            ]
          },
          "metadata": {},
          "output_type": "display_data"
        }
      ],
      "source": [
        "# calculate xG\n",
        "xG = 1 / (1 + np.exp(b[0] + b[1] * shots['dist']))\n",
        "shots = shots.assign(xG_dist=xG)\n",
        "fig, ax = plt.subplots()\n",
        "\n",
        "# plot data\n",
        "ax.plot(\n",
        "    shots['dist'],\n",
        "    shots['gol'],\n",
        "    linestyle='none',\n",
        "    marker='.',\n",
        "    markersize=12,\n",
        "    color='black',\n",
        "    zorder=3,\n",
        ")\n",
        "\n",
        "# plot curves\n",
        "ax.plot(x, y, linestyle=':', color='black', zorder=2)\n",
        "ax.plot(x, 1 - y, linestyle='solid', color='black', zorder=2)\n",
        "\n",
        "# calculate loglikelihood\n",
        "loglikelihood = 0\n",
        "\n",
        "for _, shot in shots.iterrows():\n",
        "    dist = shot['dist']\n",
        "    if shot['gol'] == 1:\n",
        "        loglikelihood = loglikelihood + np.log(shot['xG_dist'])\n",
        "        ax.plot([dist, dist], [shot['gol'], 1 - shot['xG_dist']], color='red', zorder=1)\n",
        "    else:\n",
        "        loglikelihood = loglikelihood + np.log(1 - shot['xG_dist'])\n",
        "        ax.plot([dist, dist], [shot['gol'], 1 - shot['xG_dist']], color='blue', zorder=1)\n",
        "\n",
        "ax.set_ylabel('gol marcado')\n",
        "ax.set_xlabel('ângulo do chute (graus)')\n",
        "plt.ylim((-0.05, 1.05))\n",
        "plt.xlim((0, 90))\n",
        "plt.text(120, 0.5, 'Log-likelihood:')\n",
        "plt.text(120, 0.4, str(loglikelihood)[:6])\n",
        "ax.set_yticks([0, 1])\n",
        "ax.spines['top'].set_visible(False)\n",
        "ax.spines['right'].set_visible(False)\n",
        "plt.show()"
      ]
    },
    {
      "cell_type": "markdown",
      "metadata": {
        "id": "J1gwA7IF6ISr"
      },
      "source": [
        "### Fitando a regressão logística e encontrando os melhores valores\n",
        "Os melhores parâmetros são aqueles que maximizam a verossimilhança logarítmica."
      ]
    },
    {
      "cell_type": "code",
      "execution_count": 29,
      "metadata": {
        "execution": {
          "iopub.execute_input": "2024-09-03T17:04:22.099430Z",
          "iopub.status.busy": "2024-09-03T17:04:22.098952Z",
          "iopub.status.idle": "2024-09-03T17:04:22.387407Z",
          "shell.execute_reply": "2024-09-03T17:04:22.385941Z",
          "shell.execute_reply.started": "2024-09-03T17:04:22.099385Z"
        },
        "id": "EL8vOJM96ISs",
        "outputId": "08420203-418a-4852-be6c-b1e5b5e99258",
        "trusted": true
      },
      "outputs": [
        {
          "name": "stdout",
          "output_type": "stream",
          "text": [
            "Intercept: -1.139612371423033\n",
            "Coeficiente angular: -0.039689680913662824\n"
          ]
        },
        {
          "data": {
            "image/png": "[encoded data removed]",
            "text/plain": [
              "<Figure size 640x480 with 1 Axes>"
            ]
          },
          "metadata": {},
          "output_type": "display_data"
        }
      ],
      "source": [
        "# Supondo que 'df' seja o dataframe com as colunas 'gol' e 'ang'\n",
        "X = shots[['dist']].values  # A variável independente\n",
        "y = shots['gol'].values  # A variável dependente (binária)\n",
        "\n",
        "# Criando o modelo de regressão logística\n",
        "model = LogisticRegression()\n",
        "model.fit(X, y)\n",
        "\n",
        "# Pegando os parâmetros\n",
        "b0 = model.intercept_[0]\n",
        "b1 = model.coef_[0][0]\n",
        "\n",
        "print(f'Intercept: {b0}')\n",
        "print(f'Coeficiente angular: {b1}')\n",
        "\n",
        "# Calculando a probabilidade xG\n",
        "xGprob = 1 / (1 + np.exp(-1 * (b0 + b1 * middist)))\n",
        "\n",
        "# Plotando os resultados\n",
        "fig, ax = plt.subplots()\n",
        "\n",
        "# Plotando os dados\n",
        "ax.plot(middist, prob_goal, linestyle='none', marker='.', markersize=12, color='black')\n",
        "\n",
        "# Plotando a linha de regressão\n",
        "ax.plot(middist, xGprob, linestyle='solid', color='black')\n",
        "\n",
        "# Configurando as legendas e eixos\n",
        "ax.set_ylabel('xG')\n",
        "ax.set_xlabel('Distância do chute para o gol (metros)')\n",
        "ax.spines['top'].set_visible(False)\n",
        "ax.spines['right'].set_visible(False)\n",
        "\n",
        "plt.show()"
      ]
    },
    {
      "cell_type": "code",
      "execution_count": 30,
      "metadata": {
        "execution": {
          "iopub.execute_input": "2024-09-03T17:04:22.389823Z",
          "iopub.status.busy": "2024-09-03T17:04:22.389279Z",
          "iopub.status.idle": "2024-09-03T17:04:22.398558Z",
          "shell.execute_reply": "2024-09-03T17:04:22.397070Z",
          "shell.execute_reply.started": "2024-09-03T17:04:22.389765Z"
        },
        "id": "IBv-9kuD6ISs",
        "trusted": true
      },
      "outputs": [],
      "source": [
        "# setar o xG no dataframe\n",
        "shots = shots.assign(xG_dist=model.predict_proba(X)[:, 1])\n",
        "# shots = shots.assign(xG_angle=1 / (1 + np.exp(-1*(b0 + b1 * X))))"
      ]
    },
    {
      "cell_type": "markdown",
      "metadata": {
        "id": "aX11ivsn6ISs"
      },
      "source": [
        "## Avaliação do modelo: ROC AUC"
      ]
    },
    {
      "cell_type": "markdown",
      "metadata": {
        "id": "8k6uLs_16ISs"
      },
      "source": [
        "Toda vez que criamos modelos, devemos avaliá-los para testar usa eficácia.\n",
        "\n",
        "A Área Sob A Curva Característica de Operação do Receptor (ROC AUC) é um gráfico que relaciona taxa de verdadeiros positivos (TPR) vs. taxa de falsos positivos (FPR) em diferentes thresholds. Especificamente, sobre a AUC (Área Sob a Curva):\n",
        "- AUC = 0.5: Desempenho aleatório.\n",
        "- AUC = 1.0: Modelo perfeito.\n",
        "Ou seja, quanto maior a AUC, melhor a discriminação do modelo. A vantagem do ROC AUC é que ele independente do threshold e vira uma comparação eficaz entre modelos.\n",
        "\n",
        "Vamos obter o valor de auc para xG dist"
      ]
    },
    {
      "cell_type": "code",
      "execution_count": 31,
      "metadata": {
        "execution": {
          "iopub.execute_input": "2024-09-03T17:04:22.402876Z",
          "iopub.status.busy": "2024-09-03T17:04:22.401126Z",
          "iopub.status.idle": "2024-09-03T17:04:32.334256Z",
          "shell.execute_reply": "2024-09-03T17:04:32.332954Z",
          "shell.execute_reply.started": "2024-09-03T17:04:22.402798Z"
        },
        "id": "6A7Cdt0T6ISt",
        "outputId": "d450a343-677d-4572-ae84-58030d9ea367",
        "trusted": true
      },
      "outputs": [
        {
          "data": {
            "image/png": "[encoded data removed]",
            "text/plain": [
              "<Figure size 640x480 with 1 Axes>"
            ]
          },
          "metadata": {},
          "output_type": "display_data"
        }
      ],
      "source": [
        "numobs = 100\n",
        "TP = np.zeros(numobs)\n",
        "FP = np.zeros(numobs)\n",
        "TN = np.zeros(numobs)\n",
        "FN = np.zeros(numobs)\n",
        "\n",
        "for i, threshold in enumerate(np.arange(0, 1, 1 / numobs)):\n",
        "    for _, shot in shots.iterrows():\n",
        "        if shot['gol'] == 1:\n",
        "            if shot['xG_dist'] > threshold:\n",
        "                TP[i] = TP[i] + 1\n",
        "            else:\n",
        "                FN[i] = FN[i] + 1\n",
        "        if shot['gol'] == 0:\n",
        "            if shot['xG_dist'] > threshold:\n",
        "                FP[i] = FP[i] + 1\n",
        "            else:\n",
        "                TN[i] = TN[i] + 1\n",
        "\n",
        "auc = roc_auc_score(shots['gol'], shots['xG_dist'])\n",
        "\n",
        "fig, ax = plt.subplots()\n",
        "ax.plot(FP / (FP + TN), TP / (TP + FN), color='black')\n",
        "ax.plot([0, 1], [0, 1], linestyle='dotted', color='black')\n",
        "ax.set_ylabel('Previsto gol e foi marcado TP/(TP+FN))')\n",
        "ax.set_xlabel(\"Previsto gol e não marcado FP/(FP+TN)\")\n",
        "plt.ylim((0.00, 1.00))\n",
        "plt.xlim((0.00, 1.00))\n",
        "plt.title(f'ROC curve - AUC: {auc:.4f}')\n",
        "ax.spines['top'].set_visible(False)\n",
        "ax.spines['right'].set_visible(False)"
      ]
    },
    {
      "cell_type": "markdown",
      "metadata": {
        "id": "ustEqHl96ISt"
      },
      "source": [
        "## Submissão"
      ]
    },
    {
      "cell_type": "markdown",
      "metadata": {
        "id": "u-RULCF76ISt"
      },
      "source": [
        "Para submeter um arquivo para a nossa competição, você deverá juntar o possession id do chute e o frame id. Fazendo esse mapping, envie a previsão de todos os chutes da copa do mundo através do seu modelo."
      ]
    },
    {
      "cell_type": "code",
      "execution_count": 32,
      "metadata": {
        "execution": {
          "iopub.execute_input": "2024-09-03T17:04:39.501961Z",
          "iopub.status.busy": "2024-09-03T17:04:39.501405Z",
          "iopub.status.idle": "2024-09-03T17:04:39.510202Z",
          "shell.execute_reply": "2024-09-03T17:04:39.508976Z",
          "shell.execute_reply.started": "2024-09-03T17:04:39.501914Z"
        },
        "id": "fTCZltEF6ISt",
        "trusted": true
      },
      "outputs": [],
      "source": [
        "df[\"xG\"] = (1/(1 + np.exp(-1*(b0 + b1 * df['dist']))))"
      ]
    },
    {
      "cell_type": "code",
      "execution_count": 33,
      "metadata": {
        "execution": {
          "iopub.execute_input": "2024-09-03T17:04:39.979521Z",
          "iopub.status.busy": "2024-09-03T17:04:39.978961Z",
          "iopub.status.idle": "2024-09-03T17:04:39.999634Z",
          "shell.execute_reply": "2024-09-03T17:04:39.998182Z",
          "shell.execute_reply.started": "2024-09-03T17:04:39.979446Z"
        },
        "id": "GWPz6dWC6ISu",
        "outputId": "bbc7e6da-4833-4b4c-ae75-9e1fd68f50d1",
        "trusted": true
      },
      "outputs": [
        {
          "name": "stderr",
          "output_type": "stream",
          "text": [
            "/tmp/ipykernel_179308/610565281.py:2: SettingWithCopyWarning: \n",
            "A value is trying to be set on a copy of a slice from a DataFrame.\n",
            "Try using .loc[row_indexer,col_indexer] = value instead\n",
            "\n",
            "See the caveats in the documentation: https://pandas.pydata.org/pandas-docs/stable/user_guide/indexing.html#returning-a-view-versus-a-copy\n",
            "  submission['shot_id'] = (\n"
          ]
        }
      ],
      "source": [
        "submission = df[['event_id', 'frame_id', 'xG']]\n",
        "submission['shot_id'] = (\n",
        "    submission['event_id'].astype(str) + '_' + submission['frame_id'].astype(str)\n",
        ")\n",
        "submission = submission.drop(columns=['event_id', 'frame_id'])\n",
        "submission = submission.rename(columns={'xG_dist': 'xG'})\n",
        "submission = submission[['shot_id', 'xG']]\n"
      ]
    },
    {
      "cell_type": "code",
      "execution_count": 36,
      "metadata": {
        "execution": {
          "iopub.execute_input": "2024-09-03T17:04:46.057431Z",
          "iopub.status.busy": "2024-09-03T17:04:46.057004Z",
          "iopub.status.idle": "2024-09-03T17:04:46.082843Z",
          "shell.execute_reply": "2024-09-03T17:04:46.081463Z",
          "shell.execute_reply.started": "2024-09-03T17:04:46.057385Z"
        },
        "id": "AlYo08nO6ISu",
        "trusted": true
      },
      "outputs": [],
      "source": [
        "test = pd.read_csv('data/test.csv')\n",
        "submission = pd.merge(\n",
        "    submission,\n",
        "    test[[\"shot_id\"]],\n",
        "    on=\"shot_id\"\n",
        ")"
      ]
    },
    {
      "cell_type": "code",
      "execution_count": 37,
      "metadata": {
        "execution": {
          "iopub.execute_input": "2024-09-03T17:04:46.589080Z",
          "iopub.status.busy": "2024-09-03T17:04:46.588061Z",
          "iopub.status.idle": "2024-09-03T17:04:46.601070Z",
          "shell.execute_reply": "2024-09-03T17:04:46.599834Z",
          "shell.execute_reply.started": "2024-09-03T17:04:46.589027Z"
        },
        "id": "PthjxPLE6ISu",
        "trusted": true
      },
      "outputs": [],
      "source": [
        "submission.to_csv('submission.csv', index=False)"
      ]
    }
  ],
  "metadata": {
    "colab": {
      "provenance": []
    },
    "kaggle": {
      "accelerator": "none",
      "dataSources": [
        {
          "databundleVersionId": 9504945,
          "sourceId": 84599,
          "sourceType": "competition"
        }
      ],
      "dockerImageVersionId": 30761,
      "isGpuEnabled": false,
      "isInternetEnabled": true,
      "language": "python",
      "sourceType": "notebook"
    },
    "kernelspec": {
      "display_name": "Python 3",
      "language": "python",
      "name": "python3"
    },
    "language_info": {
      "codemirror_mode": {
        "name": "ipython",
        "version": 3
      },
      "file_extension": ".py",
      "mimetype": "text/x-python",
      "name": "python",
      "nbconvert_exporter": "python",
      "pygments_lexer": "ipython3",
      "version": "3.12.3"
    }
  },
  "nbformat": 4,
  "nbformat_minor": 0
}
