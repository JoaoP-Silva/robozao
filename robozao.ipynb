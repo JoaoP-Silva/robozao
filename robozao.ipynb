{
 "cells": [
  {
   "cell_type": "markdown",
   "metadata": {},
   "source": [
    "# Imports"
   ]
  },
  {
   "cell_type": "code",
   "execution_count": 2,
   "metadata": {},
   "outputs": [],
   "source": [
    "import os\n",
    "import json\n",
    "\n",
    "import gandula\n",
    "\n",
    "import matplotlib.pyplot as plt\n",
    "import numpy as np\n",
    "import pandas as pd\n",
    "from sklearn.linear_model import LogisticRegression\n",
    "from sklearn.metrics import roc_auc_score"
   ]
  },
  {
   "cell_type": "markdown",
   "metadata": {},
   "source": [
    "# Pre-processing"
   ]
  },
  {
   "cell_type": "code",
   "execution_count": 3,
   "metadata": {},
   "outputs": [],
   "source": [
    "shot_frames = gandula.loader.read_pickle(\n",
    "    'data/enhaced_frames_shots.pkl'\n",
    ")"
   ]
  },
  {
   "cell_type": "code",
   "execution_count": 14,
   "metadata": {},
   "outputs": [
    {
     "data": {
      "text/plain": [
       "{'blockerPlayer',\n",
       " 'clearerPlayer',\n",
       " 'createsSpace',\n",
       " 'deflectorBodyType',\n",
       " 'deflectorPlayer',\n",
       " 'keeperTouchType',\n",
       " 'pressurePlayer',\n",
       " 'pressureType',\n",
       " 'saveHeightType',\n",
       " 'saveReboundType',\n",
       " 'saverPlayer',\n",
       " 'shooterPlayer',\n",
       " 'shotBodyType',\n",
       " 'shotInitialHeightType',\n",
       " 'shotNatureType',\n",
       " 'shotOutcomeType',\n",
       " 'shotPointX',\n",
       " 'shotPointY'}"
      ]
     },
     "execution_count": 14,
     "metadata": {},
     "output_type": "execute_result"
    }
   ],
   "source": [
    "result = set()\n",
    "# iterate over all frames to discover what event features are useful\n",
    "for frame in shot_frames:\n",
    "    event_features = list(frame['event'].shootingEvent.model_dump(\n",
    "        exclude_none=True\n",
    "    ).keys())\n",
    "    result.update(event_features)\n",
    "\n",
    "result"
   ]
  },
  {
   "cell_type": "code",
   "execution_count": null,
   "metadata": {},
   "outputs": [],
   "source": [
    "def extract_features(raw_frames):\n",
    "    \"\"\"\n",
    "    Extract features from raw data and returns the pandas DataFrame\n",
    "    \"\"\"\n",
    "    data = []\n",
    "\n",
    "    for frame in raw_frames:\n",
    "        attacking_team = \n",
    "\n",
    "        # extract event features\n",
    "        event_id            = frame['frame'].event_id\n",
    "        frame_id            = frame['frame'].frame_id\n",
    "        x_shot              = frame['event'].shootingEvent.shotPointX\n",
    "        y_shot              = frame['event'].shootingEvent.shotPointY\n",
    "        outcome             = frame['event'].shootingEvent.shotOutcomeType\n",
    "        body_part           = frame['event'].shootingEvent.shotBodyType\n",
    "        save_height         = frame['event'].shootingEvent.saveHeightType\n",
    "        shot_initial_height = frame['event'].shootingEvent.shotInitialHeightType\n",
    "        shooter_id          = frame['event'].shootingEvent.shooterPlayer.id\n",
    "        \n",
    "\n",
    "        # extract tracking features\n",
    "\n",
    "\n",
    "\n"
   ]
  },
  {
   "cell_type": "markdown",
   "metadata": {},
   "source": [
    "# EDA"
   ]
  },
  {
   "cell_type": "markdown",
   "metadata": {},
   "source": []
  }
 ],
 "metadata": {
  "kernelspec": {
   "display_name": "robozao",
   "language": "python",
   "name": "python3"
  },
  "language_info": {
   "codemirror_mode": {
    "name": "ipython",
    "version": 3
   },
   "file_extension": ".py",
   "mimetype": "text/x-python",
   "name": "python",
   "nbconvert_exporter": "python",
   "pygments_lexer": "ipython3",
   "version": "3.12.3"
  }
 },
 "nbformat": 4,
 "nbformat_minor": 2
}
